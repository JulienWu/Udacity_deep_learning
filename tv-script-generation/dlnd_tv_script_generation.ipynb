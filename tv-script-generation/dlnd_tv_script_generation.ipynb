{
 "cells": [
  {
   "cell_type": "markdown",
   "metadata": {},
   "source": [
    "# TV Script Generation\n",
    "In this project, you'll generate your own [Simpsons](https://en.wikipedia.org/wiki/The_Simpsons) TV scripts using RNNs.  You'll be using part of the [Simpsons dataset](https://www.kaggle.com/wcukierski/the-simpsons-by-the-data) of scripts from 27 seasons.  The Neural Network you'll build will generate a new TV script for a scene at [Moe's Tavern](https://simpsonswiki.com/wiki/Moe's_Tavern).\n",
    "## Get the Data\n",
    "The data is already provided for you.  You'll be using a subset of the original dataset.  It consists of only the scenes in Moe's Tavern.  This doesn't include other versions of the tavern, like \"Moe's Cavern\", \"Flaming Moe's\", \"Uncle Moe's Family Feed-Bag\", etc.."
   ]
  },
  {
   "cell_type": "code",
   "execution_count": 1,
   "metadata": {
    "collapsed": true
   },
   "outputs": [],
   "source": [
    "\"\"\"\n",
    "DON'T MODIFY ANYTHING IN THIS CELL\n",
    "\"\"\"\n",
    "import helper\n",
    "\n",
    "data_dir = './data/simpsons/moes_tavern_lines.txt'\n",
    "text = helper.load_data(data_dir)\n",
    "# Ignore notice, since we don't use it for analysing the data\n",
    "text = text[81:]"
   ]
  },
  {
   "cell_type": "markdown",
   "metadata": {},
   "source": [
    "## Explore the Data\n",
    "Play around with `view_sentence_range` to view different parts of the data."
   ]
  },
  {
   "cell_type": "code",
   "execution_count": 2,
   "metadata": {},
   "outputs": [
    {
     "name": "stdout",
     "output_type": "stream",
     "text": [
      "Dataset Stats\n",
      "Roughly the number of unique words: 11492\n",
      "Number of scenes: 262\n",
      "Average number of sentences in each scene: 15.248091603053435\n",
      "Number of lines: 4257\n",
      "Average number of words in each line: 11.50434578341555\n",
      "\n",
      "The sentences 0 to 10:\n",
      "Moe_Szyslak: (INTO PHONE) Moe's Tavern. Where the elite meet to drink.\n",
      "Bart_Simpson: Eh, yeah, hello, is Mike there? Last name, Rotch.\n",
      "Moe_Szyslak: (INTO PHONE) Hold on, I'll check. (TO BARFLIES) Mike Rotch. Mike Rotch. Hey, has anybody seen Mike Rotch, lately?\n",
      "Moe_Szyslak: (INTO PHONE) Listen you little puke. One of these days I'm gonna catch you, and I'm gonna carve my name on your back with an ice pick.\n",
      "Moe_Szyslak: What's the matter Homer? You're not your normal effervescent self.\n",
      "Homer_Simpson: I got my problems, Moe. Give me another one.\n",
      "Moe_Szyslak: Homer, hey, you should not drink to forget your problems.\n",
      "Barney_Gumble: Yeah, you should only drink to enhance your social skills.\n",
      "\n",
      "\n"
     ]
    }
   ],
   "source": [
    "view_sentence_range = (0, 10)\n",
    "\n",
    "\"\"\"\n",
    "DON'T MODIFY ANYTHING IN THIS CELL\n",
    "\"\"\"\n",
    "import numpy as np\n",
    "\n",
    "print('Dataset Stats')\n",
    "print('Roughly the number of unique words: {}'.format(len({word: None for word in text.split()})))\n",
    "scenes = text.split('\\n\\n')\n",
    "print('Number of scenes: {}'.format(len(scenes)))\n",
    "sentence_count_scene = [scene.count('\\n') for scene in scenes]\n",
    "print('Average number of sentences in each scene: {}'.format(np.average(sentence_count_scene)))\n",
    "\n",
    "sentences = [sentence for scene in scenes for sentence in scene.split('\\n')]\n",
    "print('Number of lines: {}'.format(len(sentences)))\n",
    "word_count_sentence = [len(sentence.split()) for sentence in sentences]\n",
    "print('Average number of words in each line: {}'.format(np.average(word_count_sentence)))\n",
    "\n",
    "print()\n",
    "print('The sentences {} to {}:'.format(*view_sentence_range))\n",
    "print('\\n'.join(text.split('\\n')[view_sentence_range[0]:view_sentence_range[1]]))"
   ]
  },
  {
   "cell_type": "markdown",
   "metadata": {},
   "source": [
    "## Implement Preprocessing Functions\n",
    "The first thing to do to any dataset is preprocessing.  Implement the following preprocessing functions below:\n",
    "- Lookup Table\n",
    "- Tokenize Punctuation\n",
    "\n",
    "### Lookup Table\n",
    "To create a word embedding, you first need to transform the words to ids.  In this function, create two dictionaries:\n",
    "- Dictionary to go from the words to an id, we'll call `vocab_to_int`\n",
    "- Dictionary to go from the id to word, we'll call `int_to_vocab`\n",
    "\n",
    "Return these dictionaries in the following tuple `(vocab_to_int, int_to_vocab)`"
   ]
  },
  {
   "cell_type": "code",
   "execution_count": 3,
   "metadata": {},
   "outputs": [
    {
     "name": "stdout",
     "output_type": "stream",
     "text": [
      "Tests Passed\n"
     ]
    }
   ],
   "source": [
    "import numpy as np\n",
    "import problem_unittests as tests\n",
    "from collections import Counter\n",
    "\n",
    "def create_lookup_tables(text):\n",
    "    \"\"\"\n",
    "    Create lookup tables for vocabulary\n",
    "    :param text: The text of tv scripts split into words\n",
    "    :return: A tuple of dicts (vocab_to_int, int_to_vocab)\n",
    "    \"\"\"\n",
    "    counter = Counter(text)\n",
    "    vocab_to_int={}\n",
    "    int_to_vocab={}\n",
    "    for i,w in enumerate(counter):\n",
    "        vocab_to_int[w]=i\n",
    "    for w,i in vocab_to_int.items():\n",
    "        int_to_vocab[i]=w\n",
    "    return vocab_to_int, int_to_vocab\n",
    "\n",
    "\n",
    "\"\"\"\n",
    "DON'T MODIFY ANYTHING IN THIS CELL THAT IS BELOW THIS LINE\n",
    "\"\"\"\n",
    "tests.test_create_lookup_tables(create_lookup_tables)"
   ]
  },
  {
   "cell_type": "markdown",
   "metadata": {},
   "source": [
    "### Tokenize Punctuation\n",
    "We'll be splitting the script into a word array using spaces as delimiters.  However, punctuations like periods and exclamation marks make it hard for the neural network to distinguish between the word \"bye\" and \"bye!\".\n",
    "\n",
    "Implement the function `token_lookup` to return a dict that will be used to tokenize symbols like \"!\" into \"||Exclamation_Mark||\".  Create a dictionary for the following symbols where the symbol is the key and value is the token:\n",
    "- Period ( . )\n",
    "- Comma ( , )\n",
    "- Quotation Mark ( \" )\n",
    "- Semicolon ( ; )\n",
    "- Exclamation mark ( ! )\n",
    "- Question mark ( ? )\n",
    "- Left Parentheses ( ( )\n",
    "- Right Parentheses ( ) )\n",
    "- Dash ( -- )\n",
    "- Return ( \\n )\n",
    "\n",
    "This dictionary will be used to token the symbols and add the delimiter (space) around it.  This separates the symbols as it's own word, making it easier for the neural network to predict on the next word. Make sure you don't use a token that could be confused as a word. Instead of using the token \"dash\", try using something like \"||dash||\"."
   ]
  },
  {
   "cell_type": "code",
   "execution_count": 4,
   "metadata": {},
   "outputs": [
    {
     "name": "stdout",
     "output_type": "stream",
     "text": [
      "Tests Passed\n"
     ]
    }
   ],
   "source": [
    "def token_lookup():\n",
    "    \"\"\"\n",
    "    Generate a dict to turn punctuation into a token.\n",
    "    :return: Tokenize dictionary where the key is the punctuation and the value is the token\n",
    "    \"\"\"\n",
    "    # TODO: Implement Function\n",
    "    return {'.':'||Period||',\n",
    "            ',':\"||Comma||\",\n",
    "            '\"':\"||QuotationMark||\",\n",
    "            ';':\"||Semicolon||\",\n",
    "            '!':\"||ExclamationMark||\",\n",
    "            '?':\"||QuestionMark||\",\n",
    "            \"(\":\"||LeftParentheses||\",\n",
    "            \")\":\"||RightParentheses||\",\n",
    "            \"--\":\"||Dash||\",\n",
    "            \"\\n\":\"||Return||\"\n",
    "           }\n",
    "\n",
    "\"\"\"\n",
    "DON'T MODIFY ANYTHING IN THIS CELL THAT IS BELOW THIS LINE\n",
    "\"\"\"\n",
    "tests.test_tokenize(token_lookup)"
   ]
  },
  {
   "cell_type": "markdown",
   "metadata": {},
   "source": [
    "## Preprocess all the data and save it\n",
    "Running the code cell below will preprocess all the data and save it to file."
   ]
  },
  {
   "cell_type": "code",
   "execution_count": 5,
   "metadata": {
    "collapsed": true
   },
   "outputs": [],
   "source": [
    "\"\"\"\n",
    "DON'T MODIFY ANYTHING IN THIS CELL\n",
    "\"\"\"\n",
    "# Preprocess Training, Validation, and Testing Data\n",
    "helper.preprocess_and_save_data(data_dir, token_lookup, create_lookup_tables)"
   ]
  },
  {
   "cell_type": "markdown",
   "metadata": {},
   "source": [
    "# Check Point\n",
    "This is your first checkpoint. If you ever decide to come back to this notebook or have to restart the notebook, you can start from here. The preprocessed data has been saved to disk."
   ]
  },
  {
   "cell_type": "code",
   "execution_count": 6,
   "metadata": {
    "collapsed": true
   },
   "outputs": [],
   "source": [
    "\"\"\"\n",
    "DON'T MODIFY ANYTHING IN THIS CELL\n",
    "\"\"\"\n",
    "import helper\n",
    "import numpy as np\n",
    "import problem_unittests as tests\n",
    "\n",
    "int_text, vocab_to_int, int_to_vocab, token_dict = helper.load_preprocess()"
   ]
  },
  {
   "cell_type": "markdown",
   "metadata": {},
   "source": [
    "## Build the Neural Network\n",
    "You'll build the components necessary to build a RNN by implementing the following functions below:\n",
    "- get_inputs\n",
    "- get_init_cell\n",
    "- get_embed\n",
    "- build_rnn\n",
    "- build_nn\n",
    "- get_batches\n",
    "\n",
    "### Check the Version of TensorFlow and Access to GPU"
   ]
  },
  {
   "cell_type": "code",
   "execution_count": 7,
   "metadata": {},
   "outputs": [
    {
     "name": "stdout",
     "output_type": "stream",
     "text": [
      "TensorFlow Version: 1.0.0\n",
      "Default GPU Device: /gpu:0\n"
     ]
    }
   ],
   "source": [
    "\"\"\"\n",
    "DON'T MODIFY ANYTHING IN THIS CELL\n",
    "\"\"\"\n",
    "from distutils.version import LooseVersion\n",
    "import warnings\n",
    "import tensorflow as tf\n",
    "\n",
    "# Check TensorFlow Version\n",
    "assert LooseVersion(tf.__version__) >= LooseVersion('1.0'), 'Please use TensorFlow version 1.0 or newer'\n",
    "print('TensorFlow Version: {}'.format(tf.__version__))\n",
    "\n",
    "# Check for a GPU\n",
    "if not tf.test.gpu_device_name():\n",
    "    warnings.warn('No GPU found. Please use a GPU to train your neural network.')\n",
    "else:\n",
    "    print('Default GPU Device: {}'.format(tf.test.gpu_device_name()))"
   ]
  },
  {
   "cell_type": "markdown",
   "metadata": {},
   "source": [
    "### Input\n",
    "Implement the `get_inputs()` function to create TF Placeholders for the Neural Network.  It should create the following placeholders:\n",
    "- Input text placeholder named \"input\" using the [TF Placeholder](https://www.tensorflow.org/api_docs/python/tf/placeholder) `name` parameter.\n",
    "- Targets placeholder\n",
    "- Learning Rate placeholder\n",
    "\n",
    "Return the placeholders in the following tuple `(Input, Targets, LearningRate)`"
   ]
  },
  {
   "cell_type": "code",
   "execution_count": 8,
   "metadata": {},
   "outputs": [
    {
     "name": "stdout",
     "output_type": "stream",
     "text": [
      "Tests Passed\n"
     ]
    }
   ],
   "source": [
    "def get_inputs():\n",
    "    \"\"\"\n",
    "    Create TF Placeholders for input, targets, and learning rate.\n",
    "    :return: Tuple (input, targets, learning rate)\n",
    "    \"\"\"\n",
    "    # TODO: Implement Function\n",
    "    input = tf.placeholder(tf.int32, [None, None], name='input')\n",
    "    targets = tf.placeholder(tf.int32, [None, None], name='targets')\n",
    "    learning_rate = tf.placeholder(tf.float32, name='learning_rate')\n",
    "    return input, targets, learning_rate\n",
    "\n",
    "\n",
    "\"\"\"\n",
    "DON'T MODIFY ANYTHING IN THIS CELL THAT IS BELOW THIS LINE\n",
    "\"\"\"\n",
    "tests.test_get_inputs(get_inputs)"
   ]
  },
  {
   "cell_type": "markdown",
   "metadata": {},
   "source": [
    "### Build RNN Cell and Initialize\n",
    "Stack one or more [`BasicLSTMCells`](https://www.tensorflow.org/api_docs/python/tf/contrib/rnn/BasicLSTMCell) in a [`MultiRNNCell`](https://www.tensorflow.org/api_docs/python/tf/contrib/rnn/MultiRNNCell).\n",
    "- The Rnn size should be set using `rnn_size`\n",
    "- Initalize Cell State using the MultiRNNCell's [`zero_state()`](https://www.tensorflow.org/api_docs/python/tf/contrib/rnn/MultiRNNCell#zero_state) function\n",
    "    - Apply the name \"initial_state\" to the initial state using [`tf.identity()`](https://www.tensorflow.org/api_docs/python/tf/identity)\n",
    "\n",
    "Return the cell and initial state in the following tuple `(Cell, InitialState)`"
   ]
  },
  {
   "cell_type": "code",
   "execution_count": 9,
   "metadata": {},
   "outputs": [
    {
     "name": "stdout",
     "output_type": "stream",
     "text": [
      "Tests Passed\n"
     ]
    }
   ],
   "source": [
    "def get_init_cell(batch_size, rnn_size):\n",
    "    \"\"\"\n",
    "    Create an RNN Cell and initialize it.\n",
    "    :param batch_size: Size of batches\n",
    "    :param rnn_size: Size of RNNs\n",
    "    :return: Tuple (cell, initialize state)\n",
    "    \"\"\"\n",
    "     \n",
    "    layer_n=2\n",
    "    lstm_layer = tf.contrib.rnn.BasicLSTMCell(rnn_size)\n",
    "    cell = tf.contrib.rnn.MultiRNNCell([lstm_layer] * layer_n)\n",
    "    initial_state = cell.zero_state(batch_size, tf.float32)\n",
    "    initial_state = tf.identity(initial_state, name='initial_state')\n",
    "    return cell, initial_state\n",
    "\n",
    "\n",
    "\"\"\"\n",
    "DON'T MODIFY ANYTHING IN THIS CELL THAT IS BELOW THIS LINE\n",
    "\"\"\"\n",
    "tests.test_get_init_cell(get_init_cell)"
   ]
  },
  {
   "cell_type": "markdown",
   "metadata": {},
   "source": [
    "### Word Embedding\n",
    "Apply embedding to `input_data` using TensorFlow.  Return the embedded sequence."
   ]
  },
  {
   "cell_type": "code",
   "execution_count": 10,
   "metadata": {},
   "outputs": [
    {
     "name": "stdout",
     "output_type": "stream",
     "text": [
      "Tests Passed\n"
     ]
    }
   ],
   "source": [
    "def get_embed(input_data, vocab_size, embed_dim):\n",
    "    \"\"\"\n",
    "    Create embedding for <input_data>.\n",
    "    :param input_data: TF placeholder for text input.\n",
    "    :param vocab_size: Number of words in vocabulary.\n",
    "    :param embed_dim: Number of embedding dimensions\n",
    "    :return: Embedded input.\n",
    "    \"\"\"\n",
    "    embedded_input = tf.Variable(tf.truncated_normal((vocab_size, embed_dim), stddev=.01))\n",
    "    embedded_input = tf.nn.embedding_lookup(embedded_input, input_data)\n",
    "    return embedded_input\n",
    "\n",
    "\"\"\"\n",
    "DON'T MODIFY ANYTHING IN THIS CELL THAT IS BELOW THIS LINE\n",
    "\"\"\"\n",
    "tests.test_get_embed(get_embed)"
   ]
  },
  {
   "cell_type": "markdown",
   "metadata": {},
   "source": [
    "### Build RNN\n",
    "You created a RNN Cell in the `get_init_cell()` function.  Time to use the cell to create a RNN.\n",
    "- Build the RNN using the [`tf.nn.dynamic_rnn()`](https://www.tensorflow.org/api_docs/python/tf/nn/dynamic_rnn)\n",
    " - Apply the name \"final_state\" to the final state using [`tf.identity()`](https://www.tensorflow.org/api_docs/python/tf/identity)\n",
    "\n",
    "Return the outputs and final_state state in the following tuple `(Outputs, FinalState)` "
   ]
  },
  {
   "cell_type": "code",
   "execution_count": 11,
   "metadata": {},
   "outputs": [
    {
     "name": "stdout",
     "output_type": "stream",
     "text": [
      "Tests Passed\n"
     ]
    }
   ],
   "source": [
    "\n",
    "def build_rnn(cell, inputs):\n",
    "    \"\"\"\n",
    "    Create a RNN using a RNN Cell\n",
    "    :param cell: RNN Cell\n",
    "    :param inputs: Input text data\n",
    "    :return: Tuple (Outputs, Final State)\n",
    "    \"\"\"\n",
    "    outputs, final_state = tf.nn.dynamic_rnn(cell, inputs, dtype = tf.float32)\n",
    "    final_state = tf.identity(final_state, name=\"final_state\")\n",
    "    return outputs, final_state\n",
    "\n",
    "\"\"\"\n",
    "DON'T MODIFY ANYTHING IN THIS CELL THAT IS BELOW THIS LINE\n",
    "\"\"\"\n",
    "tests.test_build_rnn(build_rnn)"
   ]
  },
  {
   "cell_type": "markdown",
   "metadata": {},
   "source": [
    "### Build the Neural Network\n",
    "Apply the functions you implemented above to:\n",
    "- Apply embedding to `input_data` using your `get_embed(input_data, vocab_size, embed_dim)` function.\n",
    "- Build RNN using `cell` and your `build_rnn(cell, inputs)` function.\n",
    "- Apply a fully connected layer with a linear activation and `vocab_size` as the number of outputs.\n",
    "\n",
    "Return the logits and final state in the following tuple (Logits, FinalState) "
   ]
  },
  {
   "cell_type": "code",
   "execution_count": 12,
   "metadata": {},
   "outputs": [
    {
     "name": "stdout",
     "output_type": "stream",
     "text": [
      "Tests Passed\n"
     ]
    }
   ],
   "source": [
    "def build_nn(cell, rnn_size, input_data, vocab_size, embed_dim):\n",
    "    \"\"\"\n",
    "    Build part of the neural network\n",
    "    :param cell: RNN cell\n",
    "    :param rnn_size: Size of rnns\n",
    "    :param input_data: Input data\n",
    "    :param vocab_size: Vocabulary size\n",
    "    :param embed_dim: Number of embedding dimensions\n",
    "    :return: Tuple (Logits, FinalState)\n",
    "    \"\"\"\n",
    "    embeddings = get_embed(input_data, vocab_size, rnn_size)\n",
    "    outputs, final_state = build_rnn(cell, embeddings)\n",
    "    logits = tf.contrib.layers.fully_connected(outputs, \n",
    "                                               vocab_size, \n",
    "                                               weights_initializer = tf.truncated_normal_initializer(stddev = .01),\n",
    "                                               biases_initializer = tf.zeros_initializer(),\n",
    "                                               activation_fn = None)\n",
    "    return logits, final_state\n",
    "\n",
    "\"\"\"\n",
    "DON'T MODIFY ANYTHING IN THIS CELL THAT IS BELOW THIS LINE\n",
    "\"\"\"\n",
    "tests.test_build_nn(build_nn)"
   ]
  },
  {
   "cell_type": "markdown",
   "metadata": {},
   "source": [
    "### Batches\n",
    "Implement `get_batches` to create batches of input and targets using `int_text`.  The batches should be a Numpy array with the shape `(number of batches, 2, batch size, sequence length)`. Each batch contains two elements:\n",
    "- The first element is a single batch of **input** with the shape `[batch size, sequence length]`\n",
    "- The second element is a single batch of **targets** with the shape `[batch size, sequence length]`\n",
    "\n",
    "If you can't fill the last batch with enough data, drop the last batch.\n",
    "\n",
    "For exmple, `get_batches([1, 2, 3, 4, 5, 6, 7, 8, 9, 10, 11, 12, 13, 14, 15, 16, 17, 18, 19, 20], 3, 2)` would return a Numpy array of the following:\n",
    "```\n",
    "[\n",
    "  # First Batch\n",
    "  [\n",
    "    # Batch of Input\n",
    "    [[ 1  2], [ 7  8], [13 14]]\n",
    "    # Batch of targets\n",
    "    [[ 2  3], [ 8  9], [14 15]]\n",
    "  ]\n",
    "\n",
    "  # Second Batch\n",
    "  [\n",
    "    # Batch of Input\n",
    "    [[ 3  4], [ 9 10], [15 16]]\n",
    "    # Batch of targets\n",
    "    [[ 4  5], [10 11], [16 17]]\n",
    "  ]\n",
    "\n",
    "  # Third Batch\n",
    "  [\n",
    "    # Batch of Input\n",
    "    [[ 5  6], [11 12], [17 18]]\n",
    "    # Batch of targets\n",
    "    [[ 6  7], [12 13], [18  1]]\n",
    "  ]\n",
    "]\n",
    "```\n",
    "\n",
    "Notice that the last target value in the last batch is the first input value of the first batch. In this case, `1`. This is a common technique used when creating sequence batches, although it is rather unintuitive."
   ]
  },
  {
   "cell_type": "code",
   "execution_count": 13,
   "metadata": {},
   "outputs": [
    {
     "name": "stdout",
     "output_type": "stream",
     "text": [
      "Tests Passed\n"
     ]
    }
   ],
   "source": [
    "def get_batches(int_text, batch_size, seq_length):\n",
    "    \"\"\"\n",
    "    Return batches of input and target\n",
    "    :param int_text: Text with the words replaced by their ids\n",
    "    :param batch_size: The size of batch\n",
    "    :param seq_length: The length of sequence\n",
    "    :return: Batches as a Numpy array\n",
    "    \"\"\"    \n",
    "    # Get the number of characters per batch and number of batches we can make\n",
    "    char_num_per_batch= batch_size * seq_length\n",
    "    num_batches = len(int_text)//char_num_per_batch\n",
    "    temp=num_batches*char_num_per_batch\n",
    "    int_text = int_text[:temp]\n",
    "    x = np.array(int_text)\n",
    "    y = np.array(int_text[1:] + [int_text[0]])\n",
    "    x_batch = np.split(x.reshape(batch_size, -1), num_batches, 1)\n",
    "    y_batch = np.split(y.reshape(batch_size, -1), num_batches, 1)\n",
    "    batch_data = list(zip(x_batch, y_batch))\n",
    "    return np.array(batch_data)\n",
    "\n",
    "\n",
    "\n",
    "\n",
    "\n",
    "\"\"\"\n",
    "DON'T MODIFY ANYTHING IN THIS CELL THAT IS BELOW THIS LINE\n",
    "\"\"\"\n",
    "tests.test_get_batches(get_batches)"
   ]
  },
  {
   "cell_type": "markdown",
   "metadata": {},
   "source": [
    "## Neural Network Training\n",
    "### Hyperparameters\n",
    "Tune the following parameters:\n",
    "\n",
    "- Set `num_epochs` to the number of epochs.\n",
    "- Set `batch_size` to the batch size.\n",
    "- Set `rnn_size` to the size of the RNNs.\n",
    "- Set `embed_dim` to the size of the embedding.\n",
    "- Set `seq_length` to the length of sequence.\n",
    "- Set `learning_rate` to the learning rate.\n",
    "- Set `show_every_n_batches` to the number of batches the neural network should print progress."
   ]
  },
  {
   "cell_type": "code",
   "execution_count": 14,
   "metadata": {
    "collapsed": true
   },
   "outputs": [],
   "source": [
    "# Number of Epochs\n",
    "num_epochs = 500\n",
    "# Batch Size\n",
    "batch_size = 100\n",
    "# RNN Size\n",
    "rnn_size = 256\n",
    "# Embedding Dimension Size\n",
    "embed_dim = 256\n",
    "# Sequence Length\n",
    "seq_length = 10\n",
    "# Learning Rate\n",
    "learning_rate = .001\n",
    "# Show stats for every n number of batches\n",
    "show_every_n_batches = 100\n",
    "\n",
    "\"\"\"\n",
    "DON'T MODIFY ANYTHING IN THIS CELL THAT IS BELOW THIS LINE\n",
    "\"\"\"\n",
    "save_dir = './save'"
   ]
  },
  {
   "cell_type": "markdown",
   "metadata": {},
   "source": [
    "### Build the Graph\n",
    "Build the graph using the neural network you implemented."
   ]
  },
  {
   "cell_type": "code",
   "execution_count": 15,
   "metadata": {},
   "outputs": [],
   "source": [
    "\"\"\"\n",
    "DON'T MODIFY ANYTHING IN THIS CELL\n",
    "\"\"\"\n",
    "from tensorflow.contrib import seq2seq\n",
    "\n",
    "train_graph = tf.Graph()\n",
    "with train_graph.as_default():\n",
    "    vocab_size = len(int_to_vocab)\n",
    "    input_text, targets, lr = get_inputs()\n",
    "    input_data_shape = tf.shape(input_text)\n",
    "    cell, initial_state = get_init_cell(input_data_shape[0], rnn_size)\n",
    "    logits, final_state = build_nn(cell, rnn_size, input_text, vocab_size, embed_dim)\n",
    "\n",
    "    # Probabilities for generating words\n",
    "    probs = tf.nn.softmax(logits, name='probs')\n",
    "\n",
    "    # Loss function\n",
    "    cost = seq2seq.sequence_loss(\n",
    "        logits,\n",
    "        targets,\n",
    "        tf.ones([input_data_shape[0], input_data_shape[1]]))\n",
    "\n",
    "    # Optimizer\n",
    "    optimizer = tf.train.AdamOptimizer(lr)\n",
    "\n",
    "    # Gradient Clipping\n",
    "    gradients = optimizer.compute_gradients(cost)\n",
    "    capped_gradients = [(tf.clip_by_value(grad, -1., 1.), var) for grad, var in gradients if grad is not None]\n",
    "    train_op = optimizer.apply_gradients(capped_gradients)"
   ]
  },
  {
   "cell_type": "markdown",
   "metadata": {},
   "source": [
    "## Train\n",
    "Train the neural network on the preprocessed data.  If you have a hard time getting a good loss, check the [forms](https://discussions.udacity.com/) to see if anyone is having the same problem."
   ]
  },
  {
   "cell_type": "code",
   "execution_count": 16,
   "metadata": {},
   "outputs": [
    {
     "name": "stdout",
     "output_type": "stream",
     "text": [
      "Epoch   0 Batch    0/69   train_loss = 8.822\n",
      "Epoch   1 Batch   31/69   train_loss = 6.120\n",
      "Epoch   2 Batch   62/69   train_loss = 6.009\n",
      "Epoch   4 Batch   24/69   train_loss = 6.036\n",
      "Epoch   5 Batch   55/69   train_loss = 6.007\n",
      "Epoch   7 Batch   17/69   train_loss = 6.116\n",
      "Epoch   8 Batch   48/69   train_loss = 6.061\n",
      "Epoch  10 Batch   10/69   train_loss = 5.916\n",
      "Epoch  11 Batch   41/69   train_loss = 5.628\n",
      "Epoch  13 Batch    3/69   train_loss = 5.337\n",
      "Epoch  14 Batch   34/69   train_loss = 5.278\n",
      "Epoch  15 Batch   65/69   train_loss = 5.002\n",
      "Epoch  17 Batch   27/69   train_loss = 5.011\n",
      "Epoch  18 Batch   58/69   train_loss = 5.128\n",
      "Epoch  20 Batch   20/69   train_loss = 4.859\n",
      "Epoch  21 Batch   51/69   train_loss = 4.827\n",
      "Epoch  23 Batch   13/69   train_loss = 4.781\n",
      "Epoch  24 Batch   44/69   train_loss = 4.643\n",
      "Epoch  26 Batch    6/69   train_loss = 4.724\n",
      "Epoch  27 Batch   37/69   train_loss = 4.521\n",
      "Epoch  28 Batch   68/69   train_loss = 4.550\n",
      "Epoch  30 Batch   30/69   train_loss = 4.462\n",
      "Epoch  31 Batch   61/69   train_loss = 4.469\n",
      "Epoch  33 Batch   23/69   train_loss = 4.296\n",
      "Epoch  34 Batch   54/69   train_loss = 4.293\n",
      "Epoch  36 Batch   16/69   train_loss = 4.247\n",
      "Epoch  37 Batch   47/69   train_loss = 4.176\n",
      "Epoch  39 Batch    9/69   train_loss = 4.242\n",
      "Epoch  40 Batch   40/69   train_loss = 4.082\n",
      "Epoch  42 Batch    2/69   train_loss = 4.091\n",
      "Epoch  43 Batch   33/69   train_loss = 4.108\n",
      "Epoch  44 Batch   64/69   train_loss = 3.972\n",
      "Epoch  46 Batch   26/69   train_loss = 3.842\n",
      "Epoch  47 Batch   57/69   train_loss = 3.752\n",
      "Epoch  49 Batch   19/69   train_loss = 3.925\n",
      "Epoch  50 Batch   50/69   train_loss = 3.762\n",
      "Epoch  52 Batch   12/69   train_loss = 3.706\n",
      "Epoch  53 Batch   43/69   train_loss = 3.729\n",
      "Epoch  55 Batch    5/69   train_loss = 3.535\n",
      "Epoch  56 Batch   36/69   train_loss = 3.469\n",
      "Epoch  57 Batch   67/69   train_loss = 3.545\n",
      "Epoch  59 Batch   29/69   train_loss = 3.460\n",
      "Epoch  60 Batch   60/69   train_loss = 3.460\n",
      "Epoch  62 Batch   22/69   train_loss = 3.503\n",
      "Epoch  63 Batch   53/69   train_loss = 3.234\n",
      "Epoch  65 Batch   15/69   train_loss = 3.341\n",
      "Epoch  66 Batch   46/69   train_loss = 3.270\n",
      "Epoch  68 Batch    8/69   train_loss = 3.193\n",
      "Epoch  69 Batch   39/69   train_loss = 3.192\n",
      "Epoch  71 Batch    1/69   train_loss = 3.184\n",
      "Epoch  72 Batch   32/69   train_loss = 3.052\n",
      "Epoch  73 Batch   63/69   train_loss = 3.056\n",
      "Epoch  75 Batch   25/69   train_loss = 3.156\n",
      "Epoch  76 Batch   56/69   train_loss = 3.012\n",
      "Epoch  78 Batch   18/69   train_loss = 2.930\n",
      "Epoch  79 Batch   49/69   train_loss = 2.849\n",
      "Epoch  81 Batch   11/69   train_loss = 2.901\n",
      "Epoch  82 Batch   42/69   train_loss = 2.798\n",
      "Epoch  84 Batch    4/69   train_loss = 2.855\n",
      "Epoch  85 Batch   35/69   train_loss = 2.736\n",
      "Epoch  86 Batch   66/69   train_loss = 2.639\n",
      "Epoch  88 Batch   28/69   train_loss = 2.581\n",
      "Epoch  89 Batch   59/69   train_loss = 2.618\n",
      "Epoch  91 Batch   21/69   train_loss = 2.487\n",
      "Epoch  92 Batch   52/69   train_loss = 2.492\n",
      "Epoch  94 Batch   14/69   train_loss = 2.479\n",
      "Epoch  95 Batch   45/69   train_loss = 2.438\n",
      "Epoch  97 Batch    7/69   train_loss = 2.400\n",
      "Epoch  98 Batch   38/69   train_loss = 2.306\n",
      "Epoch 100 Batch    0/69   train_loss = 2.370\n",
      "Epoch 101 Batch   31/69   train_loss = 2.408\n",
      "Epoch 102 Batch   62/69   train_loss = 2.298\n",
      "Epoch 104 Batch   24/69   train_loss = 2.230\n",
      "Epoch 105 Batch   55/69   train_loss = 2.248\n",
      "Epoch 107 Batch   17/69   train_loss = 2.187\n",
      "Epoch 108 Batch   48/69   train_loss = 2.103\n",
      "Epoch 110 Batch   10/69   train_loss = 2.077\n",
      "Epoch 111 Batch   41/69   train_loss = 2.117\n",
      "Epoch 113 Batch    3/69   train_loss = 2.011\n",
      "Epoch 114 Batch   34/69   train_loss = 2.055\n",
      "Epoch 115 Batch   65/69   train_loss = 2.066\n",
      "Epoch 117 Batch   27/69   train_loss = 1.900\n",
      "Epoch 118 Batch   58/69   train_loss = 1.876\n",
      "Epoch 120 Batch   20/69   train_loss = 1.914\n",
      "Epoch 121 Batch   51/69   train_loss = 1.680\n",
      "Epoch 123 Batch   13/69   train_loss = 1.754\n",
      "Epoch 124 Batch   44/69   train_loss = 1.975\n",
      "Epoch 126 Batch    6/69   train_loss = 1.808\n",
      "Epoch 127 Batch   37/69   train_loss = 1.804\n",
      "Epoch 128 Batch   68/69   train_loss = 1.789\n",
      "Epoch 130 Batch   30/69   train_loss = 1.810\n",
      "Epoch 131 Batch   61/69   train_loss = 1.587\n",
      "Epoch 133 Batch   23/69   train_loss = 1.713\n",
      "Epoch 134 Batch   54/69   train_loss = 1.665\n",
      "Epoch 136 Batch   16/69   train_loss = 1.648\n",
      "Epoch 137 Batch   47/69   train_loss = 1.564\n",
      "Epoch 139 Batch    9/69   train_loss = 1.662\n",
      "Epoch 140 Batch   40/69   train_loss = 1.525\n",
      "Epoch 142 Batch    2/69   train_loss = 1.542\n",
      "Epoch 143 Batch   33/69   train_loss = 1.507\n",
      "Epoch 144 Batch   64/69   train_loss = 1.474\n",
      "Epoch 146 Batch   26/69   train_loss = 1.518\n",
      "Epoch 147 Batch   57/69   train_loss = 1.492\n",
      "Epoch 149 Batch   19/69   train_loss = 1.387\n",
      "Epoch 150 Batch   50/69   train_loss = 1.408\n",
      "Epoch 152 Batch   12/69   train_loss = 1.405\n",
      "Epoch 153 Batch   43/69   train_loss = 1.449\n",
      "Epoch 155 Batch    5/69   train_loss = 1.395\n",
      "Epoch 156 Batch   36/69   train_loss = 1.146\n",
      "Epoch 157 Batch   67/69   train_loss = 1.247\n",
      "Epoch 159 Batch   29/69   train_loss = 1.367\n",
      "Epoch 160 Batch   60/69   train_loss = 1.277\n",
      "Epoch 162 Batch   22/69   train_loss = 1.345\n",
      "Epoch 163 Batch   53/69   train_loss = 1.205\n",
      "Epoch 165 Batch   15/69   train_loss = 1.297\n",
      "Epoch 166 Batch   46/69   train_loss = 1.176\n",
      "Epoch 168 Batch    8/69   train_loss = 1.194\n",
      "Epoch 169 Batch   39/69   train_loss = 1.116\n",
      "Epoch 171 Batch    1/69   train_loss = 1.175\n",
      "Epoch 172 Batch   32/69   train_loss = 1.110\n",
      "Epoch 173 Batch   63/69   train_loss = 1.138\n",
      "Epoch 175 Batch   25/69   train_loss = 1.181\n",
      "Epoch 176 Batch   56/69   train_loss = 1.058\n",
      "Epoch 178 Batch   18/69   train_loss = 1.062\n",
      "Epoch 179 Batch   49/69   train_loss = 0.925\n",
      "Epoch 181 Batch   11/69   train_loss = 0.965\n",
      "Epoch 182 Batch   42/69   train_loss = 1.109\n",
      "Epoch 184 Batch    4/69   train_loss = 0.904\n",
      "Epoch 185 Batch   35/69   train_loss = 0.920\n",
      "Epoch 186 Batch   66/69   train_loss = 0.931\n",
      "Epoch 188 Batch   28/69   train_loss = 0.959\n",
      "Epoch 189 Batch   59/69   train_loss = 0.933\n",
      "Epoch 191 Batch   21/69   train_loss = 0.824\n",
      "Epoch 192 Batch   52/69   train_loss = 0.951\n",
      "Epoch 194 Batch   14/69   train_loss = 0.871\n",
      "Epoch 195 Batch   45/69   train_loss = 0.834\n",
      "Epoch 197 Batch    7/69   train_loss = 0.867\n",
      "Epoch 198 Batch   38/69   train_loss = 0.820\n",
      "Epoch 200 Batch    0/69   train_loss = 0.822\n",
      "Epoch 201 Batch   31/69   train_loss = 0.799\n",
      "Epoch 202 Batch   62/69   train_loss = 0.764\n",
      "Epoch 204 Batch   24/69   train_loss = 0.769\n",
      "Epoch 205 Batch   55/69   train_loss = 0.742\n",
      "Epoch 207 Batch   17/69   train_loss = 0.640\n",
      "Epoch 208 Batch   48/69   train_loss = 0.636\n",
      "Epoch 210 Batch   10/69   train_loss = 0.714\n",
      "Epoch 211 Batch   41/69   train_loss = 0.682\n",
      "Epoch 213 Batch    3/69   train_loss = 0.644\n",
      "Epoch 214 Batch   34/69   train_loss = 0.719\n",
      "Epoch 215 Batch   65/69   train_loss = 0.761\n",
      "Epoch 217 Batch   27/69   train_loss = 0.661\n",
      "Epoch 218 Batch   58/69   train_loss = 0.605\n",
      "Epoch 220 Batch   20/69   train_loss = 0.627\n",
      "Epoch 221 Batch   51/69   train_loss = 0.544\n",
      "Epoch 223 Batch   13/69   train_loss = 0.583\n",
      "Epoch 224 Batch   44/69   train_loss = 0.720\n",
      "Epoch 226 Batch    6/69   train_loss = 0.593\n",
      "Epoch 227 Batch   37/69   train_loss = 0.620\n",
      "Epoch 228 Batch   68/69   train_loss = 0.643\n",
      "Epoch 230 Batch   30/69   train_loss = 0.687\n",
      "Epoch 231 Batch   61/69   train_loss = 0.530\n",
      "Epoch 233 Batch   23/69   train_loss = 0.616\n",
      "Epoch 234 Batch   54/69   train_loss = 0.543\n",
      "Epoch 236 Batch   16/69   train_loss = 0.598\n",
      "Epoch 237 Batch   47/69   train_loss = 0.562\n",
      "Epoch 239 Batch    9/69   train_loss = 0.583\n",
      "Epoch 240 Batch   40/69   train_loss = 0.516\n",
      "Epoch 242 Batch    2/69   train_loss = 0.594\n",
      "Epoch 243 Batch   33/69   train_loss = 0.598\n",
      "Epoch 244 Batch   64/69   train_loss = 0.507\n",
      "Epoch 246 Batch   26/69   train_loss = 0.560\n",
      "Epoch 247 Batch   57/69   train_loss = 0.586\n",
      "Epoch 249 Batch   19/69   train_loss = 0.510\n",
      "Epoch 250 Batch   50/69   train_loss = 0.567\n",
      "Epoch 252 Batch   12/69   train_loss = 0.553\n",
      "Epoch 253 Batch   43/69   train_loss = 0.560\n",
      "Epoch 255 Batch    5/69   train_loss = 0.571\n",
      "Epoch 256 Batch   36/69   train_loss = 0.474\n",
      "Epoch 257 Batch   67/69   train_loss = 0.456\n",
      "Epoch 259 Batch   29/69   train_loss = 0.571\n",
      "Epoch 260 Batch   60/69   train_loss = 0.487\n",
      "Epoch 262 Batch   22/69   train_loss = 0.522\n",
      "Epoch 263 Batch   53/69   train_loss = 0.466\n"
     ]
    },
    {
     "name": "stdout",
     "output_type": "stream",
     "text": [
      "Epoch 265 Batch   15/69   train_loss = 0.538\n",
      "Epoch 266 Batch   46/69   train_loss = 0.506\n",
      "Epoch 268 Batch    8/69   train_loss = 0.458\n",
      "Epoch 269 Batch   39/69   train_loss = 0.475\n",
      "Epoch 271 Batch    1/69   train_loss = 0.490\n",
      "Epoch 272 Batch   32/69   train_loss = 0.463\n",
      "Epoch 273 Batch   63/69   train_loss = 0.486\n",
      "Epoch 275 Batch   25/69   train_loss = 0.503\n",
      "Epoch 276 Batch   56/69   train_loss = 0.471\n",
      "Epoch 278 Batch   18/69   train_loss = 0.443\n",
      "Epoch 279 Batch   49/69   train_loss = 0.360\n",
      "Epoch 281 Batch   11/69   train_loss = 0.436\n",
      "Epoch 282 Batch   42/69   train_loss = 0.478\n",
      "Epoch 284 Batch    4/69   train_loss = 0.405\n",
      "Epoch 285 Batch   35/69   train_loss = 0.440\n",
      "Epoch 286 Batch   66/69   train_loss = 0.445\n",
      "Epoch 288 Batch   28/69   train_loss = 0.465\n",
      "Epoch 289 Batch   59/69   train_loss = 0.448\n",
      "Epoch 291 Batch   21/69   train_loss = 0.414\n",
      "Epoch 292 Batch   52/69   train_loss = 0.438\n",
      "Epoch 294 Batch   14/69   train_loss = 0.421\n",
      "Epoch 295 Batch   45/69   train_loss = 0.429\n",
      "Epoch 297 Batch    7/69   train_loss = 0.432\n",
      "Epoch 298 Batch   38/69   train_loss = 0.434\n",
      "Epoch 300 Batch    0/69   train_loss = 0.438\n",
      "Epoch 301 Batch   31/69   train_loss = 0.418\n",
      "Epoch 302 Batch   62/69   train_loss = 0.401\n",
      "Epoch 304 Batch   24/69   train_loss = 0.412\n",
      "Epoch 305 Batch   55/69   train_loss = 0.422\n",
      "Epoch 307 Batch   17/69   train_loss = 0.362\n",
      "Epoch 308 Batch   48/69   train_loss = 0.368\n",
      "Epoch 310 Batch   10/69   train_loss = 0.422\n",
      "Epoch 311 Batch   41/69   train_loss = 0.416\n",
      "Epoch 313 Batch    3/69   train_loss = 0.387\n",
      "Epoch 314 Batch   34/69   train_loss = 0.422\n",
      "Epoch 315 Batch   65/69   train_loss = 0.438\n",
      "Epoch 317 Batch   27/69   train_loss = 0.413\n",
      "Epoch 318 Batch   58/69   train_loss = 0.392\n",
      "Epoch 320 Batch   20/69   train_loss = 0.375\n",
      "Epoch 321 Batch   51/69   train_loss = 0.348\n",
      "Epoch 323 Batch   13/69   train_loss = 0.381\n",
      "Epoch 324 Batch   44/69   train_loss = 0.396\n",
      "Epoch 326 Batch    6/69   train_loss = 0.390\n",
      "Epoch 327 Batch   37/69   train_loss = 0.391\n",
      "Epoch 328 Batch   68/69   train_loss = 0.401\n",
      "Epoch 330 Batch   30/69   train_loss = 0.451\n",
      "Epoch 331 Batch   61/69   train_loss = 0.344\n",
      "Epoch 333 Batch   23/69   train_loss = 0.374\n",
      "Epoch 334 Batch   54/69   train_loss = 0.365\n",
      "Epoch 336 Batch   16/69   train_loss = 0.406\n",
      "Epoch 337 Batch   47/69   train_loss = 0.407\n",
      "Epoch 339 Batch    9/69   train_loss = 0.421\n",
      "Epoch 340 Batch   40/69   train_loss = 0.374\n",
      "Epoch 342 Batch    2/69   train_loss = 0.438\n",
      "Epoch 343 Batch   33/69   train_loss = 0.445\n",
      "Epoch 344 Batch   64/69   train_loss = 0.378\n",
      "Epoch 346 Batch   26/69   train_loss = 0.393\n",
      "Epoch 347 Batch   57/69   train_loss = 0.396\n",
      "Epoch 349 Batch   19/69   train_loss = 0.366\n",
      "Epoch 350 Batch   50/69   train_loss = 0.410\n",
      "Epoch 352 Batch   12/69   train_loss = 0.403\n",
      "Epoch 353 Batch   43/69   train_loss = 0.392\n",
      "Epoch 355 Batch    5/69   train_loss = 0.409\n",
      "Epoch 356 Batch   36/69   train_loss = 0.367\n",
      "Epoch 357 Batch   67/69   train_loss = 0.366\n",
      "Epoch 359 Batch   29/69   train_loss = 0.438\n",
      "Epoch 360 Batch   60/69   train_loss = 0.360\n",
      "Epoch 362 Batch   22/69   train_loss = 0.425\n",
      "Epoch 363 Batch   53/69   train_loss = 0.405\n",
      "Epoch 365 Batch   15/69   train_loss = 0.461\n",
      "Epoch 366 Batch   46/69   train_loss = 0.435\n",
      "Epoch 368 Batch    8/69   train_loss = 0.375\n",
      "Epoch 369 Batch   39/69   train_loss = 0.385\n",
      "Epoch 371 Batch    1/69   train_loss = 0.405\n",
      "Epoch 372 Batch   32/69   train_loss = 0.375\n",
      "Epoch 373 Batch   63/69   train_loss = 0.410\n",
      "Epoch 375 Batch   25/69   train_loss = 0.410\n",
      "Epoch 376 Batch   56/69   train_loss = 0.387\n",
      "Epoch 378 Batch   18/69   train_loss = 0.358\n",
      "Epoch 379 Batch   49/69   train_loss = 0.309\n",
      "Epoch 381 Batch   11/69   train_loss = 0.384\n",
      "Epoch 382 Batch   42/69   train_loss = 0.400\n",
      "Epoch 384 Batch    4/69   train_loss = 0.358\n",
      "Epoch 385 Batch   35/69   train_loss = 0.381\n",
      "Epoch 386 Batch   66/69   train_loss = 0.378\n",
      "Epoch 388 Batch   28/69   train_loss = 0.395\n",
      "Epoch 389 Batch   59/69   train_loss = 0.374\n",
      "Epoch 391 Batch   21/69   train_loss = 0.359\n",
      "Epoch 392 Batch   52/69   train_loss = 0.389\n",
      "Epoch 394 Batch   14/69   train_loss = 0.365\n",
      "Epoch 395 Batch   45/69   train_loss = 0.378\n",
      "Epoch 397 Batch    7/69   train_loss = 0.367\n",
      "Epoch 398 Batch   38/69   train_loss = 0.403\n",
      "Epoch 400 Batch    0/69   train_loss = 0.402\n",
      "Epoch 401 Batch   31/69   train_loss = 0.372\n",
      "Epoch 402 Batch   62/69   train_loss = 0.361\n",
      "Epoch 404 Batch   24/69   train_loss = 0.367\n",
      "Epoch 405 Batch   55/69   train_loss = 0.390\n",
      "Epoch 407 Batch   17/69   train_loss = 0.336\n",
      "Epoch 408 Batch   48/69   train_loss = 0.339\n",
      "Epoch 410 Batch   10/69   train_loss = 0.386\n",
      "Epoch 411 Batch   41/69   train_loss = 0.374\n",
      "Epoch 413 Batch    3/69   train_loss = 0.355\n",
      "Epoch 414 Batch   34/69   train_loss = 0.390\n",
      "Epoch 415 Batch   65/69   train_loss = 0.407\n",
      "Epoch 417 Batch   27/69   train_loss = 0.369\n",
      "Epoch 418 Batch   58/69   train_loss = 0.374\n",
      "Epoch 420 Batch   20/69   train_loss = 0.342\n",
      "Epoch 421 Batch   51/69   train_loss = 0.331\n",
      "Epoch 423 Batch   13/69   train_loss = 0.357\n",
      "Epoch 424 Batch   44/69   train_loss = 0.368\n",
      "Epoch 426 Batch    6/69   train_loss = 0.368\n",
      "Epoch 427 Batch   37/69   train_loss = 0.357\n",
      "Epoch 428 Batch   68/69   train_loss = 0.371\n",
      "Epoch 430 Batch   30/69   train_loss = 0.419\n",
      "Epoch 431 Batch   61/69   train_loss = 0.313\n",
      "Epoch 433 Batch   23/69   train_loss = 0.353\n",
      "Epoch 434 Batch   54/69   train_loss = 0.336\n",
      "Epoch 436 Batch   16/69   train_loss = 0.390\n",
      "Epoch 437 Batch   47/69   train_loss = 0.374\n",
      "Epoch 439 Batch    9/69   train_loss = 0.414\n",
      "Epoch 440 Batch   40/69   train_loss = 0.357\n",
      "Epoch 442 Batch    2/69   train_loss = 0.420\n",
      "Epoch 443 Batch   33/69   train_loss = 0.414\n",
      "Epoch 444 Batch   64/69   train_loss = 0.361\n",
      "Epoch 446 Batch   26/69   train_loss = 0.377\n",
      "Epoch 447 Batch   57/69   train_loss = 0.370\n",
      "Epoch 449 Batch   19/69   train_loss = 0.348\n",
      "Epoch 450 Batch   50/69   train_loss = 0.385\n",
      "Epoch 452 Batch   12/69   train_loss = 0.380\n",
      "Epoch 453 Batch   43/69   train_loss = 0.367\n",
      "Epoch 455 Batch    5/69   train_loss = 0.382\n",
      "Epoch 456 Batch   36/69   train_loss = 0.352\n",
      "Epoch 457 Batch   67/69   train_loss = 0.354\n",
      "Epoch 459 Batch   29/69   train_loss = 0.410\n",
      "Epoch 460 Batch   60/69   train_loss = 0.335\n",
      "Epoch 462 Batch   22/69   train_loss = 0.386\n",
      "Epoch 463 Batch   53/69   train_loss = 0.359\n",
      "Epoch 465 Batch   15/69   train_loss = 0.389\n",
      "Epoch 466 Batch   46/69   train_loss = 0.401\n",
      "Epoch 468 Batch    8/69   train_loss = 0.357\n",
      "Epoch 469 Batch   39/69   train_loss = 0.367\n",
      "Epoch 471 Batch    1/69   train_loss = 0.391\n",
      "Epoch 472 Batch   32/69   train_loss = 0.363\n",
      "Epoch 473 Batch   63/69   train_loss = 0.392\n",
      "Epoch 475 Batch   25/69   train_loss = 0.401\n",
      "Epoch 476 Batch   56/69   train_loss = 0.397\n",
      "Epoch 478 Batch   18/69   train_loss = 0.357\n",
      "Epoch 479 Batch   49/69   train_loss = 0.313\n",
      "Epoch 481 Batch   11/69   train_loss = 0.391\n",
      "Epoch 482 Batch   42/69   train_loss = 0.396\n",
      "Epoch 484 Batch    4/69   train_loss = 0.349\n",
      "Epoch 485 Batch   35/69   train_loss = 0.379\n",
      "Epoch 486 Batch   66/69   train_loss = 0.360\n",
      "Epoch 488 Batch   28/69   train_loss = 0.386\n",
      "Epoch 489 Batch   59/69   train_loss = 0.354\n",
      "Epoch 491 Batch   21/69   train_loss = 0.346\n",
      "Epoch 492 Batch   52/69   train_loss = 0.376\n",
      "Epoch 494 Batch   14/69   train_loss = 0.356\n",
      "Epoch 495 Batch   45/69   train_loss = 0.363\n",
      "Epoch 497 Batch    7/69   train_loss = 0.360\n",
      "Epoch 498 Batch   38/69   train_loss = 0.391\n",
      "Model Trained and Saved\n"
     ]
    }
   ],
   "source": [
    "\"\"\"\n",
    "DON'T MODIFY ANYTHING IN THIS CELL\n",
    "\"\"\"\n",
    "batches = get_batches(int_text, batch_size, seq_length)\n",
    "\n",
    "with tf.Session(graph=train_graph) as sess:\n",
    "    sess.run(tf.global_variables_initializer())\n",
    "\n",
    "    for epoch_i in range(num_epochs):\n",
    "        state = sess.run(initial_state, {input_text: batches[0][0]})\n",
    "\n",
    "        for batch_i, (x, y) in enumerate(batches):\n",
    "            feed = {\n",
    "                input_text: x,\n",
    "                targets: y,\n",
    "                initial_state: state,\n",
    "                lr: learning_rate}\n",
    "            train_loss, state, _ = sess.run([cost, final_state, train_op], feed)\n",
    "\n",
    "            # Show every <show_every_n_batches> batches\n",
    "            if (epoch_i * len(batches) + batch_i) % show_every_n_batches == 0:\n",
    "                print('Epoch {:>3} Batch {:>4}/{}   train_loss = {:.3f}'.format(\n",
    "                    epoch_i,\n",
    "                    batch_i,\n",
    "                    len(batches),\n",
    "                    train_loss))\n",
    "\n",
    "    # Save Model\n",
    "    saver = tf.train.Saver()\n",
    "    saver.save(sess, save_dir)\n",
    "    print('Model Trained and Saved')"
   ]
  },
  {
   "cell_type": "markdown",
   "metadata": {},
   "source": [
    "## Save Parameters\n",
    "Save `seq_length` and `save_dir` for generating a new TV script."
   ]
  },
  {
   "cell_type": "code",
   "execution_count": 17,
   "metadata": {
    "collapsed": true
   },
   "outputs": [],
   "source": [
    "\"\"\"\n",
    "DON'T MODIFY ANYTHING IN THIS CELL\n",
    "\"\"\"\n",
    "# Save parameters for checkpoint\n",
    "helper.save_params((seq_length, save_dir))"
   ]
  },
  {
   "cell_type": "markdown",
   "metadata": {},
   "source": [
    "# Checkpoint"
   ]
  },
  {
   "cell_type": "code",
   "execution_count": 18,
   "metadata": {
    "collapsed": true
   },
   "outputs": [],
   "source": [
    "\"\"\"\n",
    "DON'T MODIFY ANYTHING IN THIS CELL\n",
    "\"\"\"\n",
    "import tensorflow as tf\n",
    "import numpy as np\n",
    "import helper\n",
    "import problem_unittests as tests\n",
    "\n",
    "_, vocab_to_int, int_to_vocab, token_dict = helper.load_preprocess()\n",
    "seq_length, load_dir = helper.load_params()"
   ]
  },
  {
   "cell_type": "markdown",
   "metadata": {},
   "source": [
    "## Implement Generate Functions\n",
    "### Get Tensors\n",
    "Get tensors from `loaded_graph` using the function [`get_tensor_by_name()`](https://www.tensorflow.org/api_docs/python/tf/Graph#get_tensor_by_name).  Get the tensors using the following names:\n",
    "- \"input:0\"\n",
    "- \"initial_state:0\"\n",
    "- \"final_state:0\"\n",
    "- \"probs:0\"\n",
    "\n",
    "Return the tensors in the following tuple `(InputTensor, InitialStateTensor, FinalStateTensor, ProbsTensor)` "
   ]
  },
  {
   "cell_type": "code",
   "execution_count": 19,
   "metadata": {},
   "outputs": [
    {
     "name": "stdout",
     "output_type": "stream",
     "text": [
      "Tests Passed\n"
     ]
    }
   ],
   "source": [
    "def get_tensors(loaded_graph):\n",
    "    \"\"\"\n",
    "    Get input, initial state, final state, and probabilities tensor from <loaded_graph>\n",
    "    :param loaded_graph: TensorFlow graph loaded from file\n",
    "    :return: Tuple (InputTensor, InitialStateTensor, FinalStateTensor, ProbsTensor)\n",
    "    \"\"\"\n",
    "    # TODO: Implement Function\n",
    "    input = loaded_graph.get_tensor_by_name('input:0')\n",
    "    initial_state = loaded_graph.get_tensor_by_name('initial_state:0')\n",
    "    final_state = loaded_graph.get_tensor_by_name('final_state:0')\n",
    "    probs = loaded_graph.get_tensor_by_name('probs:0')\n",
    "    return input, initial_state, final_state, probs\n",
    "\n",
    "\n",
    "\"\"\"\n",
    "DON'T MODIFY ANYTHING IN THIS CELL THAT IS BELOW THIS LINE\n",
    "\"\"\"\n",
    "tests.test_get_tensors(get_tensors)"
   ]
  },
  {
   "cell_type": "markdown",
   "metadata": {},
   "source": [
    "### Choose Word\n",
    "Implement the `pick_word()` function to select the next word using `probabilities`."
   ]
  },
  {
   "cell_type": "code",
   "execution_count": 20,
   "metadata": {},
   "outputs": [
    {
     "name": "stdout",
     "output_type": "stream",
     "text": [
      "Tests Passed\n"
     ]
    }
   ],
   "source": [
    "def pick_word(probabilities, int_to_vocab):\n",
    "    \"\"\"\n",
    "    Pick the next word in the generated text\n",
    "    :param probabilities: Probabilites of the next word\n",
    "    :param int_to_vocab: Dictionary of word ids as the keys and words as the values\n",
    "    :return: String of the predicted word\n",
    "    \"\"\"\n",
    "    # TODO: Implement Function\n",
    "    vocab_list=list(int_to_vocab.values())\n",
    "    return np.random.choice(vocab_list, 1, p=probabilities)[0]\n",
    "\n",
    "\n",
    "\"\"\"\n",
    "DON'T MODIFY ANYTHING IN THIS CELL THAT IS BELOW THIS LINE\n",
    "\"\"\"\n",
    "tests.test_pick_word(pick_word)"
   ]
  },
  {
   "cell_type": "markdown",
   "metadata": {},
   "source": [
    "## Generate TV Script\n",
    "This will generate the TV script for you.  Set `gen_length` to the length of TV script you want to generate."
   ]
  },
  {
   "cell_type": "code",
   "execution_count": 21,
   "metadata": {},
   "outputs": [
    {
     "name": "stdout",
     "output_type": "stream",
     "text": [
      "moe_szyslak: say, ah, barn. remember when i said / i'm dead!\n",
      "homer_simpson:(looking around, then) stop right!\n",
      "homer_simpson: i feel not your son so like. if i've never been the upn you to find out outta.\n",
      "homer_simpson: oh, moe, they're not your beer. think, you made a barney always talkin' made.\n",
      "homer_simpson:(soothing)\n",
      "marge_simpson: i wish i did.\n",
      "moe_szyslak:(nervous chuckle) well yeah, i know they stupid kid. i've gotta know, they had a beer with an marriage. but some fox!\n",
      "homer_simpson: um, hope it's even careful.\n",
      "barney_gumble: so, i'm just a bad i i have to leave everything is playing the place is.\n",
      "homer_simpson: no. makin' polenta the kinda, pal.\n",
      "homer_simpson:(chuckles) i've got out big loser. beer, that kid, let him the walking up on a!\n",
      "homer_simpson: it tastes like try for real bar for a new hands of.\n",
      "homer_simpson: oh, you don't believe, i just\n"
     ]
    }
   ],
   "source": [
    "gen_length = 200\n",
    "# homer_simpson, moe_szyslak, or Barney_Gumble\n",
    "prime_word = 'moe_szyslak'\n",
    "\n",
    "\"\"\"\n",
    "DON'T MODIFY ANYTHING IN THIS CELL THAT IS BELOW THIS LINE\n",
    "\"\"\"\n",
    "loaded_graph = tf.Graph()\n",
    "with tf.Session(graph=loaded_graph) as sess:\n",
    "    # Load saved model\n",
    "    loader = tf.train.import_meta_graph(load_dir + '.meta')\n",
    "    loader.restore(sess, load_dir)\n",
    "\n",
    "    # Get Tensors from loaded model\n",
    "    input_text, initial_state, final_state, probs = get_tensors(loaded_graph)\n",
    "\n",
    "    # Sentences generation setup\n",
    "    gen_sentences = [prime_word + ':']\n",
    "    prev_state = sess.run(initial_state, {input_text: np.array([[1]])})\n",
    "\n",
    "    # Generate sentences\n",
    "    for n in range(gen_length):\n",
    "        # Dynamic Input\n",
    "        dyn_input = [[vocab_to_int[word] for word in gen_sentences[-seq_length:]]]\n",
    "        dyn_seq_length = len(dyn_input[0])\n",
    "\n",
    "        # Get Prediction\n",
    "        probabilities, prev_state = sess.run(\n",
    "            [probs, final_state],\n",
    "            {input_text: dyn_input, initial_state: prev_state})\n",
    "        \n",
    "        pred_word = pick_word(probabilities[dyn_seq_length-1], int_to_vocab)\n",
    "\n",
    "        gen_sentences.append(pred_word)\n",
    "    \n",
    "    # Remove tokens\n",
    "    tv_script = ' '.join(gen_sentences)\n",
    "    for key, token in token_dict.items():\n",
    "        ending = ' ' if key in ['\\n', '(', '\"'] else ''\n",
    "        tv_script = tv_script.replace(' ' + token.lower(), key)\n",
    "    tv_script = tv_script.replace('\\n ', '\\n')\n",
    "    tv_script = tv_script.replace('( ', '(')\n",
    "        \n",
    "    print(tv_script)"
   ]
  },
  {
   "cell_type": "markdown",
   "metadata": {},
   "source": [
    "# The TV Script is Nonsensical\n",
    "It's ok if the TV script doesn't make any sense.  We trained on less than a megabyte of text.  In order to get good results, you'll have to use a smaller vocabulary or get more data.  Luckly there's more data!  As we mentioned in the begging of this project, this is a subset of [another dataset](https://www.kaggle.com/wcukierski/the-simpsons-by-the-data).  We didn't have you train on all the data, because that would take too long.  However, you are free to train your neural network on all the data.  After you complete the project, of course.\n",
    "# Submitting This Project\n",
    "When submitting this project, make sure to run all the cells before saving the notebook. Save the notebook file as \"dlnd_tv_script_generation.ipynb\" and save it as a HTML file under \"File\" -> \"Download as\". Include the \"helper.py\" and \"problem_unittests.py\" files in your submission."
   ]
  }
 ],
 "metadata": {
  "anaconda-cloud": {},
  "kernelspec": {
   "display_name": "Python [conda env:UDL]",
   "language": "python",
   "name": "conda-env-UDL-py"
  },
  "language_info": {
   "codemirror_mode": {
    "name": "ipython",
    "version": 3
   },
   "file_extension": ".py",
   "mimetype": "text/x-python",
   "name": "python",
   "nbconvert_exporter": "python",
   "pygments_lexer": "ipython3",
   "version": "3.6.2"
  }
 },
 "nbformat": 4,
 "nbformat_minor": 1
}
