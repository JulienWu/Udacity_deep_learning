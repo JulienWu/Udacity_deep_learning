{
 "cells": [
  {
   "cell_type": "markdown",
   "metadata": {
    "collapsed": true
   },
   "source": [
    "# Image Classification\n",
    "In this project, you'll classify images from the [CIFAR-10 dataset](https://www.cs.toronto.edu/~kriz/cifar.html).  The dataset consists of airplanes, dogs, cats, and other objects. You'll preprocess the images, then train a convolutional neural network on all the samples. The images need to be normalized and the labels need to be one-hot encoded.  You'll get to apply what you learned and build a convolutional, max pooling, dropout, and fully connected layers.  At the end, you'll get to see your neural network's predictions on the sample images.\n",
    "## Get the Data\n",
    "Run the following cell to download the [CIFAR-10 dataset for python](https://www.cs.toronto.edu/~kriz/cifar-10-python.tar.gz)."
   ]
  },
  {
   "cell_type": "code",
   "execution_count": 1,
   "metadata": {},
   "outputs": [
    {
     "name": "stdout",
     "output_type": "stream",
     "text": [
      "All files found!\n"
     ]
    }
   ],
   "source": [
    "\"\"\"\n",
    "DON'T MODIFY ANYTHING IN THIS CELL THAT IS BELOW THIS LINE\n",
    "\"\"\"\n",
    "from urllib.request import urlretrieve\n",
    "from os.path import isfile, isdir\n",
    "from tqdm import tqdm\n",
    "import problem_unittests as tests\n",
    "import tarfile\n",
    "\n",
    "cifar10_dataset_folder_path = 'cifar-10-batches-py'\n",
    "\n",
    "# Use Floyd's cifar-10 dataset if present\n",
    "floyd_cifar10_location = '/input/cifar-10/python.tar.gz'\n",
    "if isfile(floyd_cifar10_location):\n",
    "    tar_gz_path = floyd_cifar10_location\n",
    "else:\n",
    "    tar_gz_path = 'cifar-10-python.tar.gz'\n",
    "\n",
    "class DLProgress(tqdm):\n",
    "    last_block = 0\n",
    "\n",
    "    def hook(self, block_num=1, block_size=1, total_size=None):\n",
    "        self.total = total_size\n",
    "        self.update((block_num - self.last_block) * block_size)\n",
    "        self.last_block = block_num\n",
    "\n",
    "if not isfile(tar_gz_path):\n",
    "    with DLProgress(unit='B', unit_scale=True, miniters=1, desc='CIFAR-10 Dataset') as pbar:\n",
    "        urlretrieve(\n",
    "            'https://www.cs.toronto.edu/~kriz/cifar-10-python.tar.gz',\n",
    "            tar_gz_path,\n",
    "            pbar.hook)\n",
    "\n",
    "if not isdir(cifar10_dataset_folder_path):\n",
    "    with tarfile.open(tar_gz_path) as tar:\n",
    "        tar.extractall()\n",
    "        tar.close()\n",
    "\n",
    "\n",
    "tests.test_folder_path(cifar10_dataset_folder_path)"
   ]
  },
  {
   "cell_type": "markdown",
   "metadata": {},
   "source": [
    "## Explore the Data\n",
    "The dataset is broken into batches to prevent your machine from running out of memory.  The CIFAR-10 dataset consists of 5 batches, named `data_batch_1`, `data_batch_2`, etc.. Each batch contains the labels and images that are one of the following:\n",
    "* airplane\n",
    "* automobile\n",
    "* bird\n",
    "* cat\n",
    "* deer\n",
    "* dog\n",
    "* frog\n",
    "* horse\n",
    "* ship\n",
    "* truck\n",
    "\n",
    "Understanding a dataset is part of making predictions on the data.  Play around with the code cell below by changing the `batch_id` and `sample_id`. The `batch_id` is the id for a batch (1-5). The `sample_id` is the id for a image and label pair in the batch.\n",
    "\n",
    "Ask yourself \"What are all possible labels?\", \"What is the range of values for the image data?\", \"Are the labels in order or random?\".  Answers to questions like these will help you preprocess the data and end up with better predictions."
   ]
  },
  {
   "cell_type": "code",
   "execution_count": 2,
   "metadata": {},
   "outputs": [
    {
     "name": "stdout",
     "output_type": "stream",
     "text": [
      "\n",
      "Stats of batch 1:\n",
      "Samples: 10000\n",
      "Label Counts: {0: 1005, 1: 974, 2: 1032, 3: 1016, 4: 999, 5: 937, 6: 1030, 7: 1001, 8: 1025, 9: 981}\n",
      "First 20 Labels: [6, 9, 9, 4, 1, 1, 2, 7, 8, 3, 4, 7, 7, 2, 9, 9, 9, 3, 2, 6]\n",
      "\n",
      "Example of Image 5:\n",
      "Image - Min Value: 0 Max Value: 252\n",
      "Image - Shape: (32, 32, 3)\n",
      "Label - Label Id: 1 Name: automobile\n"
     ]
    },
    {
     "data": {
      "image/png": "[encoded data removed]",
      "text/plain": [
       "<matplotlib.figure.Figure at 0x7f66974ba6a0>"
      ]
     },
     "metadata": {
      "image/png": {
       "height": 250,
       "width": 253
      }
     },
     "output_type": "display_data"
    }
   ],
   "source": [
    "%matplotlib inline\n",
    "%config InlineBackend.figure_format = 'retina'\n",
    "\n",
    "import helper\n",
    "import numpy as np\n",
    "\n",
    "# Explore the dataset\n",
    "batch_id = 1\n",
    "sample_id = 5\n",
    "helper.display_stats(cifar10_dataset_folder_path, batch_id, sample_id)"
   ]
  },
  {
   "cell_type": "markdown",
   "metadata": {},
   "source": [
    "## Implement Preprocess Functions\n",
    "### Normalize\n",
    "In the cell below, implement the `normalize` function to take in image data, `x`, and return it as a normalized Numpy array. The values should be in the range of 0 to 1, inclusive.  The return object should be the same shape as `x`."
   ]
  },
  {
   "cell_type": "code",
   "execution_count": 3,
   "metadata": {},
   "outputs": [
    {
     "name": "stdout",
     "output_type": "stream",
     "text": [
      "Tests Passed\n"
     ]
    }
   ],
   "source": [
    "def normalize(x):\n",
    "    \"\"\"\n",
    "    Normalize a list of sample image data in the range of 0 to 1\n",
    "    : x: List of image data.  The image shape is (32, 32, 3)\n",
    "    : return: Numpy array of normalize data\n",
    "    \"\"\"\n",
    "    # TODO: Implement Function\n",
    "    # https://stackoverflow.com/questions/29831489/numpy-1-hot-array\n",
    "    \n",
    "    return x/256.0\n",
    "\n",
    "\n",
    "\"\"\"\n",
    "DON'T MODIFY ANYTHING IN THIS CELL THAT IS BELOW THIS LINE\n",
    "\"\"\"\n",
    "tests.test_normalize(normalize)"
   ]
  },
  {
   "cell_type": "markdown",
   "metadata": {},
   "source": [
    "### One-hot encode\n",
    "Just like the previous code cell, you'll be implementing a function for preprocessing.  This time, you'll implement the `one_hot_encode` function. The input, `x`, are a list of labels.  Implement the function to return the list of labels as One-Hot encoded Numpy array.  The possible values for labels are 0 to 9. The one-hot encoding function should return the same encoding for each value between each call to `one_hot_encode`.  Make sure to save the map of encodings outside the function.\n",
    "\n",
    "Hint: Don't reinvent the wheel."
   ]
  },
  {
   "cell_type": "code",
   "execution_count": 4,
   "metadata": {},
   "outputs": [
    {
     "name": "stdout",
     "output_type": "stream",
     "text": [
      "Tests Passed\n"
     ]
    }
   ],
   "source": [
    "def one_hot_encode(x):\n",
    "    \"\"\"\n",
    "    One hot encode a list of sample labels. Return a one-hot encoded vector for each label.\n",
    "    : x: List of sample Labels\n",
    "    : return: Numpy array of one-hot encoded labels\n",
    "    \"\"\"\n",
    "    # TODO: Implement Function\n",
    "    # https://stackoverflow.com/questions/29831489/numpy-1-hot-array\n",
    "    length=len(x)\n",
    "    b = np.zeros((length, 10))\n",
    "    b[np.arange(length), x] = 1\n",
    "    return b\n",
    "\n",
    "\n",
    "\"\"\"\n",
    "DON'T MODIFY ANYTHING IN THIS CELL THAT IS BELOW THIS LINE\n",
    "\"\"\"\n",
    "tests.test_one_hot_encode(one_hot_encode)"
   ]
  },
  {
   "cell_type": "markdown",
   "metadata": {},
   "source": [
    "### Randomize Data\n",
    "As you saw from exploring the data above, the order of the samples are randomized.  It doesn't hurt to randomize it again, but you don't need to for this dataset."
   ]
  },
  {
   "cell_type": "markdown",
   "metadata": {},
   "source": [
    "## Preprocess all the data and save it\n",
    "Running the code cell below will preprocess all the CIFAR-10 data and save it to file. The code below also uses 10% of the training data for validation."
   ]
  },
  {
   "cell_type": "code",
   "execution_count": 5,
   "metadata": {
    "collapsed": true
   },
   "outputs": [],
   "source": [
    "\"\"\"\n",
    "DON'T MODIFY ANYTHING IN THIS CELL\n",
    "\"\"\"\n",
    "# Preprocess Training, Validation, and Testing Data\n",
    "helper.preprocess_and_save_data(cifar10_dataset_folder_path, normalize, one_hot_encode)"
   ]
  },
  {
   "cell_type": "markdown",
   "metadata": {},
   "source": [
    "# Check Point\n",
    "This is your first checkpoint.  If you ever decide to come back to this notebook or have to restart the notebook, you can start from here.  The preprocessed data has been saved to disk."
   ]
  },
  {
   "cell_type": "code",
   "execution_count": 6,
   "metadata": {
    "collapsed": true
   },
   "outputs": [],
   "source": [
    "\"\"\"\n",
    "DON'T MODIFY ANYTHING IN THIS CELL\n",
    "\"\"\"\n",
    "import pickle\n",
    "import problem_unittests as tests\n",
    "import helper\n",
    "\n",
    "# Load the Preprocessed Validation data\n",
    "valid_features, valid_labels = pickle.load(open('preprocess_validation.p', mode='rb'))"
   ]
  },
  {
   "cell_type": "markdown",
   "metadata": {},
   "source": [
    "## Build the network\n",
    "For the neural network, you'll build each layer into a function.  Most of the code you've seen has been outside of functions. To test your code more thoroughly, we require that you put each layer in a function.  This allows us to give you better feedback and test for simple mistakes using our unittests before you submit your project.\n",
    "\n",
    ">**Note:** If you're finding it hard to dedicate enough time for this course each week, we've provided a small shortcut to this part of the project. In the next couple of problems, you'll have the option to use classes from the [TensorFlow Layers](https://www.tensorflow.org/api_docs/python/tf/layers) or [TensorFlow Layers (contrib)](https://www.tensorflow.org/api_guides/python/contrib.layers) packages to build each layer, except the layers you build in the \"Convolutional and Max Pooling Layer\" section.  TF Layers is similar to Keras's and TFLearn's abstraction to layers, so it's easy to pickup.\n",
    "\n",
    ">However, if you would like to get the most out of this course, try to solve all the problems _without_ using anything from the TF Layers packages. You **can** still use classes from other packages that happen to have the same name as ones you find in TF Layers! For example, instead of using the TF Layers version of the `conv2d` class, [tf.layers.conv2d](https://www.tensorflow.org/api_docs/python/tf/layers/conv2d), you would want to use the TF Neural Network version of `conv2d`, [tf.nn.conv2d](https://www.tensorflow.org/api_docs/python/tf/nn/conv2d). \n",
    "\n",
    "Let's begin!\n",
    "\n",
    "### Input\n",
    "The neural network needs to read the image data, one-hot encoded labels, and dropout keep probability. Implement the following functions\n",
    "* Implement `neural_net_image_input`\n",
    " * Return a [TF Placeholder](https://www.tensorflow.org/api_docs/python/tf/placeholder)\n",
    " * Set the shape using `image_shape` with batch size set to `None`.\n",
    " * Name the TensorFlow placeholder \"x\" using the TensorFlow `name` parameter in the [TF Placeholder](https://www.tensorflow.org/api_docs/python/tf/placeholder).\n",
    "* Implement `neural_net_label_input`\n",
    " * Return a [TF Placeholder](https://www.tensorflow.org/api_docs/python/tf/placeholder)\n",
    " * Set the shape using `n_classes` with batch size set to `None`.\n",
    " * Name the TensorFlow placeholder \"y\" using the TensorFlow `name` parameter in the [TF Placeholder](https://www.tensorflow.org/api_docs/python/tf/placeholder).\n",
    "* Implement `neural_net_keep_prob_input`\n",
    " * Return a [TF Placeholder](https://www.tensorflow.org/api_docs/python/tf/placeholder) for dropout keep probability.\n",
    " * Name the TensorFlow placeholder \"keep_prob\" using the TensorFlow `name` parameter in the [TF Placeholder](https://www.tensorflow.org/api_docs/python/tf/placeholder).\n",
    "\n",
    "These names will be used at the end of the project to load your saved model.\n",
    "\n",
    "Note: `None` for shapes in TensorFlow allow for a dynamic size."
   ]
  },
  {
   "cell_type": "code",
   "execution_count": 7,
   "metadata": {},
   "outputs": [
    {
     "name": "stdout",
     "output_type": "stream",
     "text": [
      "Image Input Tests Passed.\n",
      "Label Input Tests Passed.\n",
      "Keep Prob Tests Passed.\n"
     ]
    }
   ],
   "source": [
    "import tensorflow as tf\n",
    "\n",
    "def neural_net_image_input(image_shape):\n",
    "    \"\"\"\n",
    "    Return a Tensor for a batch of image input\n",
    "    : image_shape: Shape of the images\n",
    "    : return: Tensor for image input.\n",
    "    \"\"\"\n",
    "    # TODO: Implement Function\n",
    "    return tf.placeholder(tf.float32, [None]+list(image_shape),name=\"x\")\n",
    "    \n",
    "    #Udacity reviews\n",
    "    #函数 neural_net_image_input 中 [None]+list(image_shape) 这个写法很聪明。不过可以直接写成 [None, *image_shape] 的形式，此处对列表进行了 展开 操作。\n",
    "    #return tf.placeholder(tf.float32, [None,(*image_shape)],name=\"x\")\n",
    "\n",
    "def neural_net_label_input(n_classes):\n",
    "    \"\"\"\n",
    "    Return a Tensor for a batch of label input\n",
    "    : n_classes: Number of classes\n",
    "    : return: Tensor for label input.\n",
    "    \"\"\"\n",
    "    # TODO: Implement Function\n",
    "    return tf.placeholder(tf.float32, [None,n_classes],name=\"y\")\n",
    "\n",
    "\n",
    "def neural_net_keep_prob_input():\n",
    "    \"\"\"\n",
    "    Return a Tensor for keep probability\n",
    "    : return: Tensor for keep probability.\n",
    "    \"\"\"\n",
    "    # TODO: Implement Function\n",
    "    return tf.placeholder(tf.float32,name=\"keep_prob\")\n",
    "\n",
    "\n",
    "\"\"\"\n",
    "DON'T MODIFY ANYTHING IN THIS CELL THAT IS BELOW THIS LINE\n",
    "\"\"\"\n",
    "tf.reset_default_graph()\n",
    "tests.test_nn_image_inputs(neural_net_image_input)\n",
    "tests.test_nn_label_inputs(neural_net_label_input)\n",
    "tests.test_nn_keep_prob_inputs(neural_net_keep_prob_input)"
   ]
  },
  {
   "cell_type": "markdown",
   "metadata": {},
   "source": [
    "### Convolution and Max Pooling Layer\n",
    "Convolution layers have a lot of success with images. For this code cell, you should implement the function `conv2d_maxpool` to apply convolution then max pooling:\n",
    "* Create the weight and bias using `conv_ksize`, `conv_num_outputs` and the shape of `x_tensor`.\n",
    "* Apply a convolution to `x_tensor` using weight and `conv_strides`.\n",
    " * We recommend you use same padding, but you're welcome to use any padding.\n",
    "* Add bias\n",
    "* Add a nonlinear activation to the convolution.\n",
    "* Apply Max Pooling using `pool_ksize` and `pool_strides`.\n",
    " * We recommend you use same padding, but you're welcome to use any padding.\n",
    "\n",
    "**Note:** You **can't** use [TensorFlow Layers](https://www.tensorflow.org/api_docs/python/tf/layers) or [TensorFlow Layers (contrib)](https://www.tensorflow.org/api_guides/python/contrib.layers) for **this** layer, but you can still use TensorFlow's [Neural Network](https://www.tensorflow.org/api_docs/python/tf/nn) package. You may still use the shortcut option for all the **other** layers."
   ]
  },
  {
   "cell_type": "code",
   "execution_count": 8,
   "metadata": {},
   "outputs": [
    {
     "name": "stdout",
     "output_type": "stream",
     "text": [
      "Tests Passed\n"
     ]
    }
   ],
   "source": [
    "def conv2d_maxpool(x_tensor, conv_num_outputs, conv_ksize, conv_strides ,pool_ksize, pool_strides):\n",
    "    \"\"\"\n",
    "    Apply convolution then max pooling to x_tensor\n",
    "    :param x_tensor: TensorFlow Tensor\n",
    "    :param conv_num_outputs: Number of outputs for the convolutional layer\n",
    "    :param conv_ksize: kernal size 2-D Tuple for the convolutional layer\n",
    "    :param conv_strides: Stride 2-D Tuple for convolution\n",
    "    :param pool_ksize: kernal size 2-D Tuple for pool\n",
    "    :param pool_strides: Stride 2-D Tuple for pool\n",
    "    : return: A tensor that represents convolution and max pooling of x_tensor\n",
    "    \"\"\"\n",
    "    # TODO: Implement Function\n",
    "    # Weight and bias\n",
    "    # weight = tf.Variable(tf.truncated_normal([filter_size_height, filter_size_width, color_channels, k_output]))\n",
    "    # k_output: the number of filters \n",
    "    weight = tf.Variable(tf.truncated_normal(list(conv_ksize)+[x_tensor.get_shape().as_list()[3],conv_num_outputs]))\n",
    "    bias = tf.Variable(tf.zeros(conv_num_outputs))\n",
    "    # Apply Convolution\n",
    "    conv_layer = tf.nn.conv2d(x_tensor, weight, strides=[1]+list(conv_strides)+[1], padding='SAME')\n",
    "    # Add bias\n",
    "    conv_layer = tf.nn.bias_add(conv_layer, bias)\n",
    "    # Apply activation function\n",
    "    conv_layer = tf.nn.relu(conv_layer)\n",
    "    #ksize 和 strides 参数也被构建为四个元素的列表，每个元素对应 input tensor 的一个维度 ([batch, height, width, channels])，对 ksize 和 strides 来说，batch 和 channel 通常都设置成 1。\n",
    "    conv_layer = tf.nn.max_pool(conv_layer,ksize=[1]+list(pool_ksize)+[1],strides=[1]+list(pool_strides)+[1],padding='SAME')\n",
    "    return conv_layer\n",
    "\n",
    "\n",
    "\"\"\"\n",
    "DON'T MODIFY ANYTHING IN THIS CELL THAT IS BELOW THIS LINE\n",
    "\"\"\"\n",
    "tests.test_con_pool(conv2d_maxpool)"
   ]
  },
  {
   "cell_type": "markdown",
   "metadata": {},
   "source": [
    "### Flatten Layer\n",
    "Implement the `flatten` function to change the dimension of `x_tensor` from a 4-D tensor to a 2-D tensor.  The output should be the shape (*Batch Size*, *Flattened Image Size*). Shortcut option: you can use classes from the [TensorFlow Layers](https://www.tensorflow.org/api_docs/python/tf/layers) or [TensorFlow Layers (contrib)](https://www.tensorflow.org/api_guides/python/contrib.layers) packages for this layer. For more of a challenge, only use other TensorFlow packages."
   ]
  },
  {
   "cell_type": "code",
   "execution_count": 9,
   "metadata": {},
   "outputs": [
    {
     "name": "stdout",
     "output_type": "stream",
     "text": [
      "Tests Passed\n"
     ]
    }
   ],
   "source": [
    "def flatten(x_tensor):\n",
    "    \"\"\"\n",
    "    Flatten x_tensor to (Batch Size, Flattened Image Size)\n",
    "    : x_tensor: A tensor of size (Batch Size, ...), where ... are the image dimensions.\n",
    "    : return: A tensor of size (Batch Size, Flattened Image Size).\n",
    "    \"\"\"\n",
    "    # TODO: Implement Function\n",
    "    # https://www.tensorflow.org/api_docs/python/tf/contrib/layers/flatten\n",
    "    #return tf.contrib.layers.flatten(x_tensor)\n",
    "    temp=x_tensor.get_shape().as_list()\n",
    "    result=1\n",
    "    for i in temp:\n",
    "        if i:\n",
    "            result*=i\n",
    "    return tf.reshape(x_tensor, [-1,result])\n",
    "\n",
    "\"\"\"\n",
    "DON'T MODIFY ANYTHING IN THIS CELL THAT IS BELOW THIS LINE\n",
    "\"\"\"\n",
    "tests.test_flatten(flatten)"
   ]
  },
  {
   "cell_type": "markdown",
   "metadata": {},
   "source": [
    "### Fully-Connected Layer\n",
    "Implement the `fully_conn` function to apply a fully connected layer to `x_tensor` with the shape (*Batch Size*, *num_outputs*). Shortcut option: you can use classes from the [TensorFlow Layers](https://www.tensorflow.org/api_docs/python/tf/layers) or [TensorFlow Layers (contrib)](https://www.tensorflow.org/api_guides/python/contrib.layers) packages for this layer. For more of a challenge, only use other TensorFlow packages."
   ]
  },
  {
   "cell_type": "code",
   "execution_count": 10,
   "metadata": {},
   "outputs": [
    {
     "name": "stdout",
     "output_type": "stream",
     "text": [
      "Tests Passed\n"
     ]
    }
   ],
   "source": [
    "def fully_conn(x_tensor, num_outputs):\n",
    "    \"\"\"\n",
    "    Apply a fully connected layer to x_tensor using weight and bias\n",
    "    : x_tensor: A 2-D tensor where the first dimension is batch size.\n",
    "    : num_outputs: The number of output that the new tensor should be.\n",
    "    : return: A 2-D tensor where the second dimension is num_outputs.\n",
    "    \"\"\"\n",
    "    # TODO: Implement Function\n",
    "    # https://www.tensorflow.org/api_docs/python/tf/contrib/layers/fully_connected\n",
    "    #weights = tf.Variable(tf.truncated_normal([x_tensor.get_shape().as_list()[1],num_outputs]))\n",
    "    #biases = tf.Variable(tf.zeros(num_outputs))\n",
    "    #x_tensor = tf.add(tf.matmul(x_tensor, weights), biases)\n",
    "    #x_tensor=tf.nn.relu(x_tensor)\n",
    "    #return x_tensor\n",
    "    return tf.contrib.layers.fully_connected(x_tensor,num_outputs,activation_fn=tf.nn.relu)\n",
    "\n",
    "\"\"\"\n",
    "DON'T MODIFY ANYTHING IN THIS CELL THAT IS BELOW THIS LINE\n",
    "\"\"\"\n",
    "tests.test_fully_conn(fully_conn)"
   ]
  },
  {
   "cell_type": "markdown",
   "metadata": {},
   "source": [
    "### Output Layer\n",
    "Implement the `output` function to apply a fully connected layer to `x_tensor` with the shape (*Batch Size*, *num_outputs*). Shortcut option: you can use classes from the [TensorFlow Layers](https://www.tensorflow.org/api_docs/python/tf/layers) or [TensorFlow Layers (contrib)](https://www.tensorflow.org/api_guides/python/contrib.layers) packages for this layer. For more of a challenge, only use other TensorFlow packages.\n",
    "\n",
    "**Note:** Activation, softmax, or cross entropy should **not** be applied to this."
   ]
  },
  {
   "cell_type": "code",
   "execution_count": 11,
   "metadata": {},
   "outputs": [
    {
     "name": "stdout",
     "output_type": "stream",
     "text": [
      "Tests Passed\n"
     ]
    }
   ],
   "source": [
    "def output(x_tensor, num_outputs):\n",
    "    \"\"\"\n",
    "    Apply a output layer to x_tensor using weight and bias\n",
    "    : x_tensor: A 2-D tensor where the first dimension is batch size.\n",
    "    : num_outputs: The number of output that the new tensor should be.\n",
    "    : return: A 2-D tensor where the second dimension is num_outputs.\n",
    "    \"\"\"\n",
    "    return tf.contrib.layers.fully_connected(x_tensor,num_outputs)\n",
    "\n",
    "\n",
    "\"\"\"\n",
    "DON'T MODIFY ANYTHING IN THIS CELL THAT IS BELOW THIS LINE\n",
    "\"\"\"\n",
    "tests.test_output(output)"
   ]
  },
  {
   "cell_type": "markdown",
   "metadata": {},
   "source": [
    "### Create Convolutional Model\n",
    "Implement the function `conv_net` to create a convolutional neural network model. The function takes in a batch of images, `x`, and outputs logits.  Use the layers you created above to create this model:\n",
    "\n",
    "* Apply 1, 2, or 3 Convolution and Max Pool layers\n",
    "* Apply a Flatten Layer\n",
    "* Apply 1, 2, or 3 Fully Connected Layers\n",
    "* Apply an Output Layer\n",
    "* Return the output\n",
    "* Apply [TensorFlow's Dropout](https://www.tensorflow.org/api_docs/python/tf/nn/dropout) to one or more layers in the model using `keep_prob`. "
   ]
  },
  {
   "cell_type": "code",
   "execution_count": 12,
   "metadata": {},
   "outputs": [
    {
     "name": "stdout",
     "output_type": "stream",
     "text": [
      "Neural Network Built!\n"
     ]
    }
   ],
   "source": [
    "def conv_net(x, keep_prob):\n",
    "    \"\"\"\n",
    "    Create a convolutional neural network model\n",
    "    : x: Placeholder tensor that holds image data.\n",
    "    : keep_prob: Placeholder tensor that hold dropout keep probability.\n",
    "    : return: Tensor that represents logits\n",
    "    \"\"\"\n",
    "    # TODO: Apply 1, 2, or 3 Convolution and Max Pool layers\n",
    "    #    Play around with different number of outputs, kernel size and stride\n",
    "    # Function Definition from Above:\n",
    "    test_num_outputs = 30\n",
    "    test_con_k = (2, 2)\n",
    "    test_con_s = (2, 2)\n",
    "    test_pool_k = (2, 2)\n",
    "    test_pool_s = (2, 2)\n",
    "    conv2d_maxpool_out = conv2d_maxpool(x, test_num_outputs, test_con_k, test_con_s, test_pool_k, test_pool_s)\n",
    "    test_num_outputs = 60\n",
    "    test_con_k = (2, 2)\n",
    "    test_con_s = (2, 2)\n",
    "    test_pool_k = (2, 2)\n",
    "    test_pool_s = (2, 2)\n",
    "    conv2d_maxpool_out = conv2d_maxpool(x, test_num_outputs, test_con_k, test_con_s, test_pool_k, test_pool_s)\n",
    "    test_num_outputs = 90\n",
    "    test_con_k = (2, 2)\n",
    "    test_con_s = (2, 2)\n",
    "    test_pool_k = (2, 2)\n",
    "    test_pool_s = (2, 2)\n",
    "    conv2d_maxpool_out = conv2d_maxpool(x, test_num_outputs, test_con_k, test_con_s, test_pool_k, test_pool_s)\n",
    "    # TODO: Apply a Flatten Layer\n",
    "    # Function Definition from Above:\n",
    "    conv2d_maxpool_out=flatten(conv2d_maxpool_out)\n",
    "    \n",
    "\n",
    "    # TODO: Apply 1, 2, or 3 Fully Connected Layers\n",
    "    #    Play around with different number of outputs\n",
    "    # Function Definition from Above:\n",
    "    conv2d_maxpool_out=fully_conn(conv2d_maxpool_out, 80)\n",
    "    conv2d_maxpool_out=tf.nn.dropout(conv2d_maxpool_out, keep_prob)\n",
    "    conv2d_maxpool_out=fully_conn(conv2d_maxpool_out, 40)\n",
    "    conv2d_maxpool_out=tf.nn.dropout(conv2d_maxpool_out, keep_prob)\n",
    "    # TODO: Apply an Output Layer\n",
    "    #    Set this to the number of classes\n",
    "    \n",
    "    # Function Definition from Above:\n",
    "    # TODO: return output\n",
    "    return output(conv2d_maxpool_out, 10)\n",
    "\n",
    "\n",
    "\"\"\"\n",
    "DON'T MODIFY ANYTHING IN THIS CELL THAT IS BELOW THIS LINE\n",
    "\"\"\"\n",
    "\n",
    "##############################\n",
    "## Build the Neural Network ##\n",
    "##############################\n",
    "\n",
    "# Remove previous weights, bias, inputs, etc..\n",
    "tf.reset_default_graph()\n",
    "\n",
    "# Inputs\n",
    "x = neural_net_image_input((32, 32, 3))\n",
    "y = neural_net_label_input(10)\n",
    "keep_prob = neural_net_keep_prob_input()\n",
    "\n",
    "# Model\n",
    "logits = conv_net(x, keep_prob)\n",
    "\n",
    "# Name logits Tensor, so that is can be loaded from disk after training\n",
    "logits = tf.identity(logits, name='logits')\n",
    "\n",
    "# Loss and Optimizer\n",
    "cost = tf.reduce_mean(tf.nn.softmax_cross_entropy_with_logits(logits=logits, labels=y))\n",
    "optimizer = tf.train.AdamOptimizer().minimize(cost)\n",
    "\n",
    "# Accuracy\n",
    "correct_pred = tf.equal(tf.argmax(logits, 1), tf.argmax(y, 1))\n",
    "accuracy = tf.reduce_mean(tf.cast(correct_pred, tf.float32), name='accuracy')\n",
    "\n",
    "tests.test_conv_net(conv_net)"
   ]
  },
  {
   "cell_type": "markdown",
   "metadata": {},
   "source": [
    "## Train the Neural Network\n",
    "### Single Optimization\n",
    "Implement the function `train_neural_network` to do a single optimization.  The optimization should use `optimizer` to optimize in `session` with a `feed_dict` of the following:\n",
    "* `x` for image input\n",
    "* `y` for labels\n",
    "* `keep_prob` for keep probability for dropout\n",
    "\n",
    "This function will be called for each batch, so `tf.global_variables_initializer()` has already been called.\n",
    "\n",
    "Note: Nothing needs to be returned. This function is only optimizing the neural network."
   ]
  },
  {
   "cell_type": "code",
   "execution_count": 13,
   "metadata": {},
   "outputs": [
    {
     "name": "stdout",
     "output_type": "stream",
     "text": [
      "Tests Passed\n"
     ]
    }
   ],
   "source": [
    "def train_neural_network(session, optimizer, keep_probability, feature_batch, label_batch):\n",
    "    \"\"\"\n",
    "    Optimize the session on a batch of images and labels\n",
    "    : session: Current TensorFlow session\n",
    "    : optimizer: TensorFlow optimizer function\n",
    "    : keep_probability: keep probability\n",
    "    : feature_batch: Batch of Numpy image data\n",
    "    : label_batch: Batch of Numpy label data\n",
    "    \"\"\"\n",
    "    # TODO: Implement Function\n",
    "    session.run(optimizer,feed_dict=({x:feature_batch,y:label_batch,keep_prob:keep_probability}))\n",
    "\n",
    "\n",
    "\"\"\"\n",
    "DON'T MODIFY ANYTHING IN THIS CELL THAT IS BELOW THIS LINE\n",
    "\"\"\"\n",
    "tests.test_train_nn(train_neural_network)"
   ]
  },
  {
   "cell_type": "markdown",
   "metadata": {},
   "source": [
    "### Show Stats\n",
    "Implement the function `print_stats` to print loss and validation accuracy.  Use the global variables `valid_features` and `valid_labels` to calculate validation accuracy.  Use a keep probability of `1.0` to calculate the loss and validation accuracy."
   ]
  },
  {
   "cell_type": "code",
   "execution_count": 14,
   "metadata": {
    "collapsed": true
   },
   "outputs": [],
   "source": [
    "def print_stats(session, feature_batch, label_batch, cost, accuracy):\n",
    "    \"\"\"\n",
    "    Print information about loss and validation accuracy\n",
    "    : session: Current TensorFlow session\n",
    "    : feature_batch: Batch of Numpy image datta\n",
    "    : label_batch: Batch of Numpy label data\n",
    "    : cost: TensorFlow cost function\n",
    "    : accuracy: TensorFlow accuracy function\n",
    "    \"\"\"\n",
    "    # TODO: Implement Function\n",
    "    loss=session.run(cost,feed_dict=({x:feature_batch,y:label_batch,keep_prob:1}))\n",
    "    valid_acc=session.run(accuracy,feed_dict=({x:feature_batch,y:label_batch,keep_prob:1}))\n",
    "    print(\"Loss: {:>10.4f} Validation Accuracy: {:.6f}\".format(loss,valid_acc))"
   ]
  },
  {
   "cell_type": "markdown",
   "metadata": {},
   "source": [
    "### Hyperparameters\n",
    "Tune the following parameters:\n",
    "* Set `epochs` to the number of iterations until the network stops learning or start overfitting\n",
    "* Set `batch_size` to the highest number that your machine has memory for.  Most people set them to common sizes of memory:\n",
    " * 64\n",
    " * 128\n",
    " * 256\n",
    " * ...\n",
    "* Set `keep_probability` to the probability of keeping a node using dropout"
   ]
  },
  {
   "cell_type": "code",
   "execution_count": 15,
   "metadata": {
    "collapsed": true
   },
   "outputs": [],
   "source": [
    "# TODO: Tune Parameters\n",
    "epochs = 50\n",
    "batch_size = 1024\n",
    "keep_probability = 0.9"
   ]
  },
  {
   "cell_type": "markdown",
   "metadata": {},
   "source": [
    "### Train on a Single CIFAR-10 Batch\n",
    "Instead of training the neural network on all the CIFAR-10 batches of data, let's use a single batch. This should save time while you iterate on the model to get a better accuracy.  Once the final validation accuracy is 50% or greater, run the model on all the data in the next section."
   ]
  },
  {
   "cell_type": "code",
   "execution_count": 16,
   "metadata": {},
   "outputs": [
    {
     "name": "stdout",
     "output_type": "stream",
     "text": [
      "Checking the Training on a Single Batch...\n",
      "Epoch  1, CIFAR-10 Batch 1:  Loss:     2.3026 Validation Accuracy: 0.097800\n",
      "Epoch  2, CIFAR-10 Batch 1:  Loss:     2.3026 Validation Accuracy: 0.097800\n",
      "Epoch  3, CIFAR-10 Batch 1:  Loss:     2.3026 Validation Accuracy: 0.097800\n",
      "Epoch  4, CIFAR-10 Batch 1:  Loss:     2.3026 Validation Accuracy: 0.097800\n",
      "Epoch  5, CIFAR-10 Batch 1:  Loss:     2.3026 Validation Accuracy: 0.097800\n",
      "Epoch  6, CIFAR-10 Batch 1:  Loss:     2.3026 Validation Accuracy: 0.097800\n",
      "Epoch  7, CIFAR-10 Batch 1:  Loss:     2.3026 Validation Accuracy: 0.097800\n",
      "Epoch  8, CIFAR-10 Batch 1:  Loss:     2.3024 Validation Accuracy: 0.098800\n",
      "Epoch  9, CIFAR-10 Batch 1:  Loss:     2.2867 Validation Accuracy: 0.118800\n",
      "Epoch 10, CIFAR-10 Batch 1:  Loss:     2.2579 Validation Accuracy: 0.125400\n",
      "Epoch 11, CIFAR-10 Batch 1:  Loss:     2.2522 Validation Accuracy: 0.124400\n",
      "Epoch 12, CIFAR-10 Batch 1:  Loss:     2.2285 Validation Accuracy: 0.194000\n",
      "Epoch 13, CIFAR-10 Batch 1:  Loss:     2.2099 Validation Accuracy: 0.214200\n",
      "Epoch 14, CIFAR-10 Batch 1:  Loss:     2.1957 Validation Accuracy: 0.218200\n",
      "Epoch 15, CIFAR-10 Batch 1:  Loss:     2.1824 Validation Accuracy: 0.229000\n",
      "Epoch 16, CIFAR-10 Batch 1:  Loss:     2.1629 Validation Accuracy: 0.250600\n",
      "Epoch 17, CIFAR-10 Batch 1:  Loss:     2.1246 Validation Accuracy: 0.280000\n",
      "Epoch 18, CIFAR-10 Batch 1:  Loss:     2.0803 Validation Accuracy: 0.293800\n",
      "Epoch 19, CIFAR-10 Batch 1:  Loss:     2.0563 Validation Accuracy: 0.303400\n",
      "Epoch 20, CIFAR-10 Batch 1:  Loss:     2.0524 Validation Accuracy: 0.301600\n",
      "Epoch 21, CIFAR-10 Batch 1:  Loss:     2.0227 Validation Accuracy: 0.316000\n",
      "Epoch 22, CIFAR-10 Batch 1:  Loss:     2.0256 Validation Accuracy: 0.315000\n",
      "Epoch 23, CIFAR-10 Batch 1:  Loss:     2.0100 Validation Accuracy: 0.326000\n",
      "Epoch 24, CIFAR-10 Batch 1:  Loss:     1.9940 Validation Accuracy: 0.328600\n",
      "Epoch 25, CIFAR-10 Batch 1:  Loss:     1.9866 Validation Accuracy: 0.336600\n",
      "Epoch 26, CIFAR-10 Batch 1:  Loss:     1.9732 Validation Accuracy: 0.344000\n",
      "Epoch 27, CIFAR-10 Batch 1:  Loss:     1.9614 Validation Accuracy: 0.357000\n",
      "Epoch 28, CIFAR-10 Batch 1:  Loss:     1.9355 Validation Accuracy: 0.372400\n",
      "Epoch 29, CIFAR-10 Batch 1:  Loss:     1.9124 Validation Accuracy: 0.381000\n",
      "Epoch 30, CIFAR-10 Batch 1:  Loss:     1.9004 Validation Accuracy: 0.385800\n",
      "Epoch 31, CIFAR-10 Batch 1:  Loss:     1.8943 Validation Accuracy: 0.390200\n",
      "Epoch 32, CIFAR-10 Batch 1:  Loss:     1.8790 Validation Accuracy: 0.396600\n",
      "Epoch 33, CIFAR-10 Batch 1:  Loss:     1.8876 Validation Accuracy: 0.388200\n",
      "Epoch 34, CIFAR-10 Batch 1:  Loss:     1.8657 Validation Accuracy: 0.400600\n",
      "Epoch 35, CIFAR-10 Batch 1:  Loss:     1.8565 Validation Accuracy: 0.409800\n",
      "Epoch 36, CIFAR-10 Batch 1:  Loss:     1.8483 Validation Accuracy: 0.408600\n",
      "Epoch 37, CIFAR-10 Batch 1:  Loss:     1.8479 Validation Accuracy: 0.409200\n",
      "Epoch 38, CIFAR-10 Batch 1:  Loss:     1.8500 Validation Accuracy: 0.409000\n",
      "Epoch 39, CIFAR-10 Batch 1:  Loss:     1.8465 Validation Accuracy: 0.411800\n",
      "Epoch 40, CIFAR-10 Batch 1:  Loss:     1.8488 Validation Accuracy: 0.410800\n",
      "Epoch 41, CIFAR-10 Batch 1:  Loss:     1.8390 Validation Accuracy: 0.406000\n",
      "Epoch 42, CIFAR-10 Batch 1:  Loss:     1.8686 Validation Accuracy: 0.392000\n",
      "Epoch 43, CIFAR-10 Batch 1:  Loss:     1.8254 Validation Accuracy: 0.407600\n",
      "Epoch 44, CIFAR-10 Batch 1:  Loss:     1.8066 Validation Accuracy: 0.417200\n",
      "Epoch 45, CIFAR-10 Batch 1:  Loss:     1.7951 Validation Accuracy: 0.419000\n",
      "Epoch 46, CIFAR-10 Batch 1:  Loss:     1.7597 Validation Accuracy: 0.436400\n",
      "Epoch 47, CIFAR-10 Batch 1:  Loss:     1.7213 Validation Accuracy: 0.433400\n",
      "Epoch 48, CIFAR-10 Batch 1:  Loss:     1.7005 Validation Accuracy: 0.441200\n",
      "Epoch 49, CIFAR-10 Batch 1:  Loss:     1.6784 Validation Accuracy: 0.452000\n",
      "Epoch 50, CIFAR-10 Batch 1:  Loss:     1.6706 Validation Accuracy: 0.451200\n"
     ]
    }
   ],
   "source": [
    "\"\"\"\n",
    "DON'T MODIFY ANYTHING IN THIS CELL\n",
    "\"\"\"\n",
    "print('Checking the Training on a Single Batch...')\n",
    "with tf.Session() as sess:\n",
    "    # Initializing the variables\n",
    "    sess.run(tf.global_variables_initializer())\n",
    "    \n",
    "    # Training cycle\n",
    "    for epoch in range(epochs):\n",
    "        batch_i = 1\n",
    "        for batch_features, batch_labels in helper.load_preprocess_training_batch(batch_i, batch_size):\n",
    "            train_neural_network(sess, optimizer, keep_probability, batch_features, batch_labels)\n",
    "        print('Epoch {:>2}, CIFAR-10 Batch {}:  '.format(epoch + 1, batch_i), end='')\n",
    "        print_stats(sess, valid_features, valid_labels, cost, accuracy)"
   ]
  },
  {
   "cell_type": "markdown",
   "metadata": {},
   "source": [
    "### Fully Train the Model\n",
    "Now that you got a good accuracy with a single CIFAR-10 batch, try it with all five batches."
   ]
  },
  {
   "cell_type": "code",
   "execution_count": 17,
   "metadata": {},
   "outputs": [
    {
     "name": "stdout",
     "output_type": "stream",
     "text": [
      "Training...\n",
      "Epoch  1, CIFAR-10 Batch 1:  Loss:     2.2957 Validation Accuracy: 0.110600\n",
      "Epoch  1, CIFAR-10 Batch 2:  Loss:     2.3026 Validation Accuracy: 0.097800\n",
      "Epoch  1, CIFAR-10 Batch 3:  Loss:     2.3026 Validation Accuracy: 0.097800\n",
      "Epoch  1, CIFAR-10 Batch 4:  Loss:     2.3026 Validation Accuracy: 0.097800\n",
      "Epoch  1, CIFAR-10 Batch 5:  Loss:     2.3026 Validation Accuracy: 0.097800\n",
      "Epoch  2, CIFAR-10 Batch 1:  Loss:     2.3025 Validation Accuracy: 0.097600\n",
      "Epoch  2, CIFAR-10 Batch 2:  Loss:     2.3024 Validation Accuracy: 0.098200\n",
      "Epoch  2, CIFAR-10 Batch 3:  Loss:     2.2837 Validation Accuracy: 0.129800\n",
      "Epoch  2, CIFAR-10 Batch 4:  Loss:     2.2703 Validation Accuracy: 0.143800\n",
      "Epoch  2, CIFAR-10 Batch 5:  Loss:     2.2326 Validation Accuracy: 0.178400\n",
      "Epoch  3, CIFAR-10 Batch 1:  Loss:     2.1595 Validation Accuracy: 0.185600\n",
      "Epoch  3, CIFAR-10 Batch 2:  Loss:     2.1412 Validation Accuracy: 0.248600\n",
      "Epoch  3, CIFAR-10 Batch 3:  Loss:     2.0680 Validation Accuracy: 0.278200\n",
      "Epoch  3, CIFAR-10 Batch 4:  Loss:     2.0387 Validation Accuracy: 0.299600\n",
      "Epoch  3, CIFAR-10 Batch 5:  Loss:     2.0020 Validation Accuracy: 0.311200\n",
      "Epoch  4, CIFAR-10 Batch 1:  Loss:     1.9759 Validation Accuracy: 0.323200\n",
      "Epoch  4, CIFAR-10 Batch 2:  Loss:     1.9500 Validation Accuracy: 0.327600\n",
      "Epoch  4, CIFAR-10 Batch 3:  Loss:     1.8991 Validation Accuracy: 0.350800\n",
      "Epoch  4, CIFAR-10 Batch 4:  Loss:     1.8413 Validation Accuracy: 0.364200\n",
      "Epoch  4, CIFAR-10 Batch 5:  Loss:     1.7888 Validation Accuracy: 0.384800\n",
      "Epoch  5, CIFAR-10 Batch 1:  Loss:     1.7431 Validation Accuracy: 0.405400\n",
      "Epoch  5, CIFAR-10 Batch 2:  Loss:     1.7307 Validation Accuracy: 0.403800\n",
      "Epoch  5, CIFAR-10 Batch 3:  Loss:     1.6896 Validation Accuracy: 0.430000\n",
      "Epoch  5, CIFAR-10 Batch 4:  Loss:     1.6791 Validation Accuracy: 0.432000\n",
      "Epoch  5, CIFAR-10 Batch 5:  Loss:     1.6438 Validation Accuracy: 0.445600\n",
      "Epoch  6, CIFAR-10 Batch 1:  Loss:     1.6416 Validation Accuracy: 0.445800\n",
      "Epoch  6, CIFAR-10 Batch 2:  Loss:     1.6237 Validation Accuracy: 0.450200\n",
      "Epoch  6, CIFAR-10 Batch 3:  Loss:     1.5749 Validation Accuracy: 0.463000\n",
      "Epoch  6, CIFAR-10 Batch 4:  Loss:     1.5370 Validation Accuracy: 0.477400\n",
      "Epoch  6, CIFAR-10 Batch 5:  Loss:     1.5163 Validation Accuracy: 0.467800\n",
      "Epoch  7, CIFAR-10 Batch 1:  Loss:     1.4832 Validation Accuracy: 0.478400\n",
      "Epoch  7, CIFAR-10 Batch 2:  Loss:     1.4397 Validation Accuracy: 0.492600\n",
      "Epoch  7, CIFAR-10 Batch 3:  Loss:     1.4338 Validation Accuracy: 0.503800\n",
      "Epoch  7, CIFAR-10 Batch 4:  Loss:     1.4250 Validation Accuracy: 0.511000\n",
      "Epoch  7, CIFAR-10 Batch 5:  Loss:     1.4100 Validation Accuracy: 0.512400\n",
      "Epoch  8, CIFAR-10 Batch 1:  Loss:     1.3914 Validation Accuracy: 0.512200\n",
      "Epoch  8, CIFAR-10 Batch 2:  Loss:     1.3703 Validation Accuracy: 0.524200\n",
      "Epoch  8, CIFAR-10 Batch 3:  Loss:     1.3601 Validation Accuracy: 0.531400\n",
      "Epoch  8, CIFAR-10 Batch 4:  Loss:     1.3568 Validation Accuracy: 0.529000\n",
      "Epoch  8, CIFAR-10 Batch 5:  Loss:     1.3489 Validation Accuracy: 0.532600\n",
      "Epoch  9, CIFAR-10 Batch 1:  Loss:     1.3508 Validation Accuracy: 0.529200\n",
      "Epoch  9, CIFAR-10 Batch 2:  Loss:     1.3408 Validation Accuracy: 0.530800\n",
      "Epoch  9, CIFAR-10 Batch 3:  Loss:     1.3159 Validation Accuracy: 0.546000\n",
      "Epoch  9, CIFAR-10 Batch 4:  Loss:     1.3137 Validation Accuracy: 0.544200\n",
      "Epoch  9, CIFAR-10 Batch 5:  Loss:     1.3294 Validation Accuracy: 0.539400\n",
      "Epoch 10, CIFAR-10 Batch 1:  Loss:     1.3513 Validation Accuracy: 0.532400\n",
      "Epoch 10, CIFAR-10 Batch 2:  Loss:     1.3352 Validation Accuracy: 0.527000\n",
      "Epoch 10, CIFAR-10 Batch 3:  Loss:     1.3303 Validation Accuracy: 0.534400\n",
      "Epoch 10, CIFAR-10 Batch 4:  Loss:     1.3108 Validation Accuracy: 0.542800\n",
      "Epoch 10, CIFAR-10 Batch 5:  Loss:     1.3046 Validation Accuracy: 0.553000\n",
      "Epoch 11, CIFAR-10 Batch 1:  Loss:     1.3075 Validation Accuracy: 0.544800\n",
      "Epoch 11, CIFAR-10 Batch 2:  Loss:     1.2859 Validation Accuracy: 0.555000\n",
      "Epoch 11, CIFAR-10 Batch 3:  Loss:     1.2796 Validation Accuracy: 0.555000\n",
      "Epoch 11, CIFAR-10 Batch 4:  Loss:     1.2911 Validation Accuracy: 0.551000\n",
      "Epoch 11, CIFAR-10 Batch 5:  Loss:     1.2726 Validation Accuracy: 0.559000\n",
      "Epoch 12, CIFAR-10 Batch 1:  Loss:     1.2713 Validation Accuracy: 0.560200\n",
      "Epoch 12, CIFAR-10 Batch 2:  Loss:     1.2732 Validation Accuracy: 0.561600\n",
      "Epoch 12, CIFAR-10 Batch 3:  Loss:     1.2671 Validation Accuracy: 0.561000\n",
      "Epoch 12, CIFAR-10 Batch 4:  Loss:     1.2619 Validation Accuracy: 0.562400\n",
      "Epoch 12, CIFAR-10 Batch 5:  Loss:     1.2496 Validation Accuracy: 0.565000\n",
      "Epoch 13, CIFAR-10 Batch 1:  Loss:     1.2539 Validation Accuracy: 0.563000\n",
      "Epoch 13, CIFAR-10 Batch 2:  Loss:     1.2701 Validation Accuracy: 0.563800\n",
      "Epoch 13, CIFAR-10 Batch 3:  Loss:     1.2607 Validation Accuracy: 0.561600\n",
      "Epoch 13, CIFAR-10 Batch 4:  Loss:     1.2446 Validation Accuracy: 0.561400\n",
      "Epoch 13, CIFAR-10 Batch 5:  Loss:     1.2442 Validation Accuracy: 0.564000\n",
      "Epoch 14, CIFAR-10 Batch 1:  Loss:     1.2416 Validation Accuracy: 0.569000\n",
      "Epoch 14, CIFAR-10 Batch 2:  Loss:     1.2534 Validation Accuracy: 0.557000\n",
      "Epoch 14, CIFAR-10 Batch 3:  Loss:     1.2360 Validation Accuracy: 0.565600\n",
      "Epoch 14, CIFAR-10 Batch 4:  Loss:     1.2380 Validation Accuracy: 0.571000\n",
      "Epoch 14, CIFAR-10 Batch 5:  Loss:     1.2325 Validation Accuracy: 0.565200\n",
      "Epoch 15, CIFAR-10 Batch 1:  Loss:     1.2299 Validation Accuracy: 0.570600\n",
      "Epoch 15, CIFAR-10 Batch 2:  Loss:     1.2258 Validation Accuracy: 0.569400\n",
      "Epoch 15, CIFAR-10 Batch 3:  Loss:     1.2242 Validation Accuracy: 0.571200\n",
      "Epoch 15, CIFAR-10 Batch 4:  Loss:     1.2322 Validation Accuracy: 0.573200\n",
      "Epoch 15, CIFAR-10 Batch 5:  Loss:     1.2088 Validation Accuracy: 0.579200\n",
      "Epoch 16, CIFAR-10 Batch 1:  Loss:     1.2138 Validation Accuracy: 0.574600\n",
      "Epoch 16, CIFAR-10 Batch 2:  Loss:     1.2282 Validation Accuracy: 0.575200\n",
      "Epoch 16, CIFAR-10 Batch 3:  Loss:     1.2238 Validation Accuracy: 0.576400\n",
      "Epoch 16, CIFAR-10 Batch 4:  Loss:     1.2224 Validation Accuracy: 0.571400\n",
      "Epoch 16, CIFAR-10 Batch 5:  Loss:     1.2025 Validation Accuracy: 0.579600\n",
      "Epoch 17, CIFAR-10 Batch 1:  Loss:     1.2155 Validation Accuracy: 0.571200\n",
      "Epoch 17, CIFAR-10 Batch 2:  Loss:     1.2139 Validation Accuracy: 0.576600\n",
      "Epoch 17, CIFAR-10 Batch 3:  Loss:     1.2061 Validation Accuracy: 0.579800\n",
      "Epoch 17, CIFAR-10 Batch 4:  Loss:     1.2189 Validation Accuracy: 0.576200\n",
      "Epoch 17, CIFAR-10 Batch 5:  Loss:     1.1990 Validation Accuracy: 0.587200\n",
      "Epoch 18, CIFAR-10 Batch 1:  Loss:     1.2025 Validation Accuracy: 0.576600\n",
      "Epoch 18, CIFAR-10 Batch 2:  Loss:     1.2106 Validation Accuracy: 0.575000\n",
      "Epoch 18, CIFAR-10 Batch 3:  Loss:     1.2067 Validation Accuracy: 0.576600\n",
      "Epoch 18, CIFAR-10 Batch 4:  Loss:     1.2023 Validation Accuracy: 0.580400\n",
      "Epoch 18, CIFAR-10 Batch 5:  Loss:     1.2000 Validation Accuracy: 0.589000\n",
      "Epoch 19, CIFAR-10 Batch 1:  Loss:     1.1967 Validation Accuracy: 0.581000\n",
      "Epoch 19, CIFAR-10 Batch 2:  Loss:     1.2018 Validation Accuracy: 0.580800\n",
      "Epoch 19, CIFAR-10 Batch 3:  Loss:     1.1814 Validation Accuracy: 0.590200\n",
      "Epoch 19, CIFAR-10 Batch 4:  Loss:     1.1963 Validation Accuracy: 0.581600\n",
      "Epoch 19, CIFAR-10 Batch 5:  Loss:     1.1799 Validation Accuracy: 0.593200\n",
      "Epoch 20, CIFAR-10 Batch 1:  Loss:     1.1867 Validation Accuracy: 0.588800\n",
      "Epoch 20, CIFAR-10 Batch 2:  Loss:     1.1896 Validation Accuracy: 0.584400\n",
      "Epoch 20, CIFAR-10 Batch 3:  Loss:     1.1752 Validation Accuracy: 0.592800\n",
      "Epoch 20, CIFAR-10 Batch 4:  Loss:     1.2010 Validation Accuracy: 0.577000\n",
      "Epoch 20, CIFAR-10 Batch 5:  Loss:     1.1810 Validation Accuracy: 0.584400\n",
      "Epoch 21, CIFAR-10 Batch 1:  Loss:     1.1828 Validation Accuracy: 0.588600\n",
      "Epoch 21, CIFAR-10 Batch 2:  Loss:     1.1953 Validation Accuracy: 0.580400\n",
      "Epoch 21, CIFAR-10 Batch 3:  Loss:     1.1741 Validation Accuracy: 0.590400\n",
      "Epoch 21, CIFAR-10 Batch 4:  Loss:     1.1911 Validation Accuracy: 0.581600\n",
      "Epoch 21, CIFAR-10 Batch 5:  Loss:     1.1776 Validation Accuracy: 0.593800\n",
      "Epoch 22, CIFAR-10 Batch 1:  Loss:     1.1762 Validation Accuracy: 0.592000\n",
      "Epoch 22, CIFAR-10 Batch 2:  Loss:     1.1781 Validation Accuracy: 0.590600\n",
      "Epoch 22, CIFAR-10 Batch 3:  Loss:     1.1755 Validation Accuracy: 0.587600\n"
     ]
    },
    {
     "name": "stdout",
     "output_type": "stream",
     "text": [
      "Epoch 22, CIFAR-10 Batch 4:  Loss:     1.1948 Validation Accuracy: 0.576200\n",
      "Epoch 22, CIFAR-10 Batch 5:  Loss:     1.1754 Validation Accuracy: 0.595400\n",
      "Epoch 23, CIFAR-10 Batch 1:  Loss:     1.1810 Validation Accuracy: 0.590800\n",
      "Epoch 23, CIFAR-10 Batch 2:  Loss:     1.1910 Validation Accuracy: 0.583600\n",
      "Epoch 23, CIFAR-10 Batch 3:  Loss:     1.1765 Validation Accuracy: 0.593200\n",
      "Epoch 23, CIFAR-10 Batch 4:  Loss:     1.1836 Validation Accuracy: 0.583400\n",
      "Epoch 23, CIFAR-10 Batch 5:  Loss:     1.1744 Validation Accuracy: 0.594400\n",
      "Epoch 24, CIFAR-10 Batch 1:  Loss:     1.1733 Validation Accuracy: 0.586600\n",
      "Epoch 24, CIFAR-10 Batch 2:  Loss:     1.1815 Validation Accuracy: 0.589600\n",
      "Epoch 24, CIFAR-10 Batch 3:  Loss:     1.1639 Validation Accuracy: 0.596000\n",
      "Epoch 24, CIFAR-10 Batch 4:  Loss:     1.1718 Validation Accuracy: 0.589400\n",
      "Epoch 24, CIFAR-10 Batch 5:  Loss:     1.1685 Validation Accuracy: 0.596600\n",
      "Epoch 25, CIFAR-10 Batch 1:  Loss:     1.1770 Validation Accuracy: 0.589000\n",
      "Epoch 25, CIFAR-10 Batch 2:  Loss:     1.1601 Validation Accuracy: 0.594200\n",
      "Epoch 25, CIFAR-10 Batch 3:  Loss:     1.1686 Validation Accuracy: 0.594600\n",
      "Epoch 25, CIFAR-10 Batch 4:  Loss:     1.1666 Validation Accuracy: 0.593600\n",
      "Epoch 25, CIFAR-10 Batch 5:  Loss:     1.1697 Validation Accuracy: 0.599400\n",
      "Epoch 26, CIFAR-10 Batch 1:  Loss:     1.1520 Validation Accuracy: 0.595600\n",
      "Epoch 26, CIFAR-10 Batch 2:  Loss:     1.1555 Validation Accuracy: 0.600400\n",
      "Epoch 26, CIFAR-10 Batch 3:  Loss:     1.1596 Validation Accuracy: 0.598000\n",
      "Epoch 26, CIFAR-10 Batch 4:  Loss:     1.1593 Validation Accuracy: 0.597800\n",
      "Epoch 26, CIFAR-10 Batch 5:  Loss:     1.1690 Validation Accuracy: 0.593400\n",
      "Epoch 27, CIFAR-10 Batch 1:  Loss:     1.1493 Validation Accuracy: 0.595400\n",
      "Epoch 27, CIFAR-10 Batch 2:  Loss:     1.1543 Validation Accuracy: 0.598800\n",
      "Epoch 27, CIFAR-10 Batch 3:  Loss:     1.1607 Validation Accuracy: 0.592800\n",
      "Epoch 27, CIFAR-10 Batch 4:  Loss:     1.1538 Validation Accuracy: 0.602400\n",
      "Epoch 27, CIFAR-10 Batch 5:  Loss:     1.1475 Validation Accuracy: 0.598600\n",
      "Epoch 28, CIFAR-10 Batch 1:  Loss:     1.1476 Validation Accuracy: 0.598800\n",
      "Epoch 28, CIFAR-10 Batch 2:  Loss:     1.1441 Validation Accuracy: 0.600600\n",
      "Epoch 28, CIFAR-10 Batch 3:  Loss:     1.1579 Validation Accuracy: 0.595800\n",
      "Epoch 28, CIFAR-10 Batch 4:  Loss:     1.1588 Validation Accuracy: 0.597400\n",
      "Epoch 28, CIFAR-10 Batch 5:  Loss:     1.1498 Validation Accuracy: 0.600400\n",
      "Epoch 29, CIFAR-10 Batch 1:  Loss:     1.1490 Validation Accuracy: 0.602200\n",
      "Epoch 29, CIFAR-10 Batch 2:  Loss:     1.1411 Validation Accuracy: 0.602200\n",
      "Epoch 29, CIFAR-10 Batch 3:  Loss:     1.1518 Validation Accuracy: 0.601600\n",
      "Epoch 29, CIFAR-10 Batch 4:  Loss:     1.1532 Validation Accuracy: 0.599400\n",
      "Epoch 29, CIFAR-10 Batch 5:  Loss:     1.1486 Validation Accuracy: 0.601000\n",
      "Epoch 30, CIFAR-10 Batch 1:  Loss:     1.1441 Validation Accuracy: 0.602600\n",
      "Epoch 30, CIFAR-10 Batch 2:  Loss:     1.1388 Validation Accuracy: 0.601600\n",
      "Epoch 30, CIFAR-10 Batch 3:  Loss:     1.1545 Validation Accuracy: 0.599400\n",
      "Epoch 30, CIFAR-10 Batch 4:  Loss:     1.1521 Validation Accuracy: 0.604200\n",
      "Epoch 30, CIFAR-10 Batch 5:  Loss:     1.1370 Validation Accuracy: 0.608600\n",
      "Epoch 31, CIFAR-10 Batch 1:  Loss:     1.1378 Validation Accuracy: 0.603800\n",
      "Epoch 31, CIFAR-10 Batch 2:  Loss:     1.1394 Validation Accuracy: 0.607200\n",
      "Epoch 31, CIFAR-10 Batch 3:  Loss:     1.1630 Validation Accuracy: 0.598600\n",
      "Epoch 31, CIFAR-10 Batch 4:  Loss:     1.1421 Validation Accuracy: 0.606800\n",
      "Epoch 31, CIFAR-10 Batch 5:  Loss:     1.1410 Validation Accuracy: 0.607800\n",
      "Epoch 32, CIFAR-10 Batch 1:  Loss:     1.1358 Validation Accuracy: 0.609200\n",
      "Epoch 32, CIFAR-10 Batch 2:  Loss:     1.1443 Validation Accuracy: 0.607400\n",
      "Epoch 32, CIFAR-10 Batch 3:  Loss:     1.1583 Validation Accuracy: 0.601400\n",
      "Epoch 32, CIFAR-10 Batch 4:  Loss:     1.1546 Validation Accuracy: 0.597600\n",
      "Epoch 32, CIFAR-10 Batch 5:  Loss:     1.1364 Validation Accuracy: 0.611200\n",
      "Epoch 33, CIFAR-10 Batch 1:  Loss:     1.1511 Validation Accuracy: 0.602800\n",
      "Epoch 33, CIFAR-10 Batch 2:  Loss:     1.1425 Validation Accuracy: 0.607200\n",
      "Epoch 33, CIFAR-10 Batch 3:  Loss:     1.1635 Validation Accuracy: 0.595800\n",
      "Epoch 33, CIFAR-10 Batch 4:  Loss:     1.1442 Validation Accuracy: 0.602000\n",
      "Epoch 33, CIFAR-10 Batch 5:  Loss:     1.1369 Validation Accuracy: 0.608800\n",
      "Epoch 34, CIFAR-10 Batch 1:  Loss:     1.1398 Validation Accuracy: 0.607600\n",
      "Epoch 34, CIFAR-10 Batch 2:  Loss:     1.1410 Validation Accuracy: 0.607400\n",
      "Epoch 34, CIFAR-10 Batch 3:  Loss:     1.1594 Validation Accuracy: 0.605400\n",
      "Epoch 34, CIFAR-10 Batch 4:  Loss:     1.1451 Validation Accuracy: 0.601600\n",
      "Epoch 34, CIFAR-10 Batch 5:  Loss:     1.1390 Validation Accuracy: 0.605400\n",
      "Epoch 35, CIFAR-10 Batch 1:  Loss:     1.1385 Validation Accuracy: 0.606800\n",
      "Epoch 35, CIFAR-10 Batch 2:  Loss:     1.1298 Validation Accuracy: 0.614400\n",
      "Epoch 35, CIFAR-10 Batch 3:  Loss:     1.1460 Validation Accuracy: 0.606600\n",
      "Epoch 35, CIFAR-10 Batch 4:  Loss:     1.1417 Validation Accuracy: 0.604800\n",
      "Epoch 35, CIFAR-10 Batch 5:  Loss:     1.1384 Validation Accuracy: 0.611000\n",
      "Epoch 36, CIFAR-10 Batch 1:  Loss:     1.1405 Validation Accuracy: 0.603600\n",
      "Epoch 36, CIFAR-10 Batch 2:  Loss:     1.1481 Validation Accuracy: 0.608000\n",
      "Epoch 36, CIFAR-10 Batch 3:  Loss:     1.1541 Validation Accuracy: 0.607400\n",
      "Epoch 36, CIFAR-10 Batch 4:  Loss:     1.1373 Validation Accuracy: 0.603400\n",
      "Epoch 36, CIFAR-10 Batch 5:  Loss:     1.1459 Validation Accuracy: 0.607200\n",
      "Epoch 37, CIFAR-10 Batch 1:  Loss:     1.1341 Validation Accuracy: 0.609400\n",
      "Epoch 37, CIFAR-10 Batch 2:  Loss:     1.1414 Validation Accuracy: 0.607800\n",
      "Epoch 37, CIFAR-10 Batch 3:  Loss:     1.1448 Validation Accuracy: 0.608600\n",
      "Epoch 37, CIFAR-10 Batch 4:  Loss:     1.1333 Validation Accuracy: 0.606000\n",
      "Epoch 37, CIFAR-10 Batch 5:  Loss:     1.1386 Validation Accuracy: 0.607000\n",
      "Epoch 38, CIFAR-10 Batch 1:  Loss:     1.1311 Validation Accuracy: 0.606800\n",
      "Epoch 38, CIFAR-10 Batch 2:  Loss:     1.1560 Validation Accuracy: 0.603600\n",
      "Epoch 38, CIFAR-10 Batch 3:  Loss:     1.1716 Validation Accuracy: 0.596200\n",
      "Epoch 38, CIFAR-10 Batch 4:  Loss:     1.1526 Validation Accuracy: 0.600000\n",
      "Epoch 38, CIFAR-10 Batch 5:  Loss:     1.1460 Validation Accuracy: 0.602800\n",
      "Epoch 39, CIFAR-10 Batch 1:  Loss:     1.1343 Validation Accuracy: 0.609600\n",
      "Epoch 39, CIFAR-10 Batch 2:  Loss:     1.1394 Validation Accuracy: 0.607200\n",
      "Epoch 39, CIFAR-10 Batch 3:  Loss:     1.1505 Validation Accuracy: 0.600400\n",
      "Epoch 39, CIFAR-10 Batch 4:  Loss:     1.1672 Validation Accuracy: 0.592400\n",
      "Epoch 39, CIFAR-10 Batch 5:  Loss:     1.1345 Validation Accuracy: 0.611200\n",
      "Epoch 40, CIFAR-10 Batch 1:  Loss:     1.1262 Validation Accuracy: 0.616200\n",
      "Epoch 40, CIFAR-10 Batch 2:  Loss:     1.1449 Validation Accuracy: 0.607800\n",
      "Epoch 40, CIFAR-10 Batch 3:  Loss:     1.1486 Validation Accuracy: 0.600400\n",
      "Epoch 40, CIFAR-10 Batch 4:  Loss:     1.1628 Validation Accuracy: 0.598600\n",
      "Epoch 40, CIFAR-10 Batch 5:  Loss:     1.1333 Validation Accuracy: 0.615400\n",
      "Epoch 41, CIFAR-10 Batch 1:  Loss:     1.1327 Validation Accuracy: 0.616800\n",
      "Epoch 41, CIFAR-10 Batch 2:  Loss:     1.1277 Validation Accuracy: 0.611400\n",
      "Epoch 41, CIFAR-10 Batch 3:  Loss:     1.1450 Validation Accuracy: 0.606000\n",
      "Epoch 41, CIFAR-10 Batch 4:  Loss:     1.1556 Validation Accuracy: 0.597000\n",
      "Epoch 41, CIFAR-10 Batch 5:  Loss:     1.1314 Validation Accuracy: 0.613200\n",
      "Epoch 42, CIFAR-10 Batch 1:  Loss:     1.1208 Validation Accuracy: 0.619200\n",
      "Epoch 42, CIFAR-10 Batch 2:  Loss:     1.1219 Validation Accuracy: 0.612800\n",
      "Epoch 42, CIFAR-10 Batch 3:  Loss:     1.1363 Validation Accuracy: 0.610800\n",
      "Epoch 42, CIFAR-10 Batch 4:  Loss:     1.1507 Validation Accuracy: 0.599800\n",
      "Epoch 42, CIFAR-10 Batch 5:  Loss:     1.1356 Validation Accuracy: 0.612600\n",
      "Epoch 43, CIFAR-10 Batch 1:  Loss:     1.1230 Validation Accuracy: 0.613600\n",
      "Epoch 43, CIFAR-10 Batch 2:  Loss:     1.1149 Validation Accuracy: 0.615600\n",
      "Epoch 43, CIFAR-10 Batch 3:  Loss:     1.1195 Validation Accuracy: 0.617000\n",
      "Epoch 43, CIFAR-10 Batch 4:  Loss:     1.1357 Validation Accuracy: 0.601200\n",
      "Epoch 43, CIFAR-10 Batch 5:  Loss:     1.1394 Validation Accuracy: 0.611400\n",
      "Epoch 44, CIFAR-10 Batch 1:  Loss:     1.1252 Validation Accuracy: 0.621400\n"
     ]
    },
    {
     "name": "stdout",
     "output_type": "stream",
     "text": [
      "Epoch 44, CIFAR-10 Batch 2:  Loss:     1.1161 Validation Accuracy: 0.609800\n",
      "Epoch 44, CIFAR-10 Batch 3:  Loss:     1.1235 Validation Accuracy: 0.615600\n",
      "Epoch 44, CIFAR-10 Batch 4:  Loss:     1.1322 Validation Accuracy: 0.602400\n",
      "Epoch 44, CIFAR-10 Batch 5:  Loss:     1.1357 Validation Accuracy: 0.612200\n",
      "Epoch 45, CIFAR-10 Batch 1:  Loss:     1.1296 Validation Accuracy: 0.618200\n",
      "Epoch 45, CIFAR-10 Batch 2:  Loss:     1.1224 Validation Accuracy: 0.611400\n",
      "Epoch 45, CIFAR-10 Batch 3:  Loss:     1.1213 Validation Accuracy: 0.617200\n",
      "Epoch 45, CIFAR-10 Batch 4:  Loss:     1.1313 Validation Accuracy: 0.602600\n",
      "Epoch 45, CIFAR-10 Batch 5:  Loss:     1.1379 Validation Accuracy: 0.614200\n",
      "Epoch 46, CIFAR-10 Batch 1:  Loss:     1.1297 Validation Accuracy: 0.619000\n",
      "Epoch 46, CIFAR-10 Batch 2:  Loss:     1.1200 Validation Accuracy: 0.616800\n",
      "Epoch 46, CIFAR-10 Batch 3:  Loss:     1.1221 Validation Accuracy: 0.616800\n",
      "Epoch 46, CIFAR-10 Batch 4:  Loss:     1.1292 Validation Accuracy: 0.609600\n",
      "Epoch 46, CIFAR-10 Batch 5:  Loss:     1.1343 Validation Accuracy: 0.614800\n",
      "Epoch 47, CIFAR-10 Batch 1:  Loss:     1.1334 Validation Accuracy: 0.614800\n",
      "Epoch 47, CIFAR-10 Batch 2:  Loss:     1.1175 Validation Accuracy: 0.614200\n",
      "Epoch 47, CIFAR-10 Batch 3:  Loss:     1.1146 Validation Accuracy: 0.621600\n",
      "Epoch 47, CIFAR-10 Batch 4:  Loss:     1.1367 Validation Accuracy: 0.602600\n",
      "Epoch 47, CIFAR-10 Batch 5:  Loss:     1.1279 Validation Accuracy: 0.616000\n",
      "Epoch 48, CIFAR-10 Batch 1:  Loss:     1.1281 Validation Accuracy: 0.620600\n",
      "Epoch 48, CIFAR-10 Batch 2:  Loss:     1.1196 Validation Accuracy: 0.616600\n",
      "Epoch 48, CIFAR-10 Batch 3:  Loss:     1.1175 Validation Accuracy: 0.615400\n",
      "Epoch 48, CIFAR-10 Batch 4:  Loss:     1.1319 Validation Accuracy: 0.606000\n",
      "Epoch 48, CIFAR-10 Batch 5:  Loss:     1.1274 Validation Accuracy: 0.616600\n",
      "Epoch 49, CIFAR-10 Batch 1:  Loss:     1.1268 Validation Accuracy: 0.619800\n",
      "Epoch 49, CIFAR-10 Batch 2:  Loss:     1.1241 Validation Accuracy: 0.616000\n",
      "Epoch 49, CIFAR-10 Batch 3:  Loss:     1.1250 Validation Accuracy: 0.613200\n",
      "Epoch 49, CIFAR-10 Batch 4:  Loss:     1.1367 Validation Accuracy: 0.602800\n",
      "Epoch 49, CIFAR-10 Batch 5:  Loss:     1.1246 Validation Accuracy: 0.616200\n",
      "Epoch 50, CIFAR-10 Batch 1:  Loss:     1.1293 Validation Accuracy: 0.623000\n",
      "Epoch 50, CIFAR-10 Batch 2:  Loss:     1.1295 Validation Accuracy: 0.617200\n",
      "Epoch 50, CIFAR-10 Batch 3:  Loss:     1.1327 Validation Accuracy: 0.613600\n",
      "Epoch 50, CIFAR-10 Batch 4:  Loss:     1.1321 Validation Accuracy: 0.608800\n",
      "Epoch 50, CIFAR-10 Batch 5:  Loss:     1.1301 Validation Accuracy: 0.615200\n"
     ]
    }
   ],
   "source": [
    "\"\"\"\n",
    "DON'T MODIFY ANYTHING IN THIS CELL\n",
    "\"\"\"\n",
    "save_model_path = './image_classification'\n",
    "\n",
    "print('Training...')\n",
    "with tf.Session() as sess:\n",
    "    # Initializing the variables\n",
    "    sess.run(tf.global_variables_initializer())\n",
    "    \n",
    "    # Training cycle\n",
    "    for epoch in range(epochs):\n",
    "        # Loop over all batches\n",
    "        n_batches = 5\n",
    "        for batch_i in range(1, n_batches + 1):\n",
    "            for batch_features, batch_labels in helper.load_preprocess_training_batch(batch_i, batch_size):\n",
    "                train_neural_network(sess, optimizer, keep_probability, batch_features, batch_labels)\n",
    "            print('Epoch {:>2}, CIFAR-10 Batch {}:  '.format(epoch + 1, batch_i), end='')\n",
    "            print_stats(sess, valid_features, valid_labels, cost, accuracy)\n",
    "            \n",
    "    # Save Model\n",
    "    saver = tf.train.Saver()\n",
    "    save_path = saver.save(sess, save_model_path)"
   ]
  },
  {
   "cell_type": "markdown",
   "metadata": {},
   "source": [
    "# Checkpoint\n",
    "The model has been saved to disk.\n",
    "## Test Model\n",
    "Test your model against the test dataset.  This will be your final accuracy. You should have an accuracy greater than 50%. If you don't, keep tweaking the model architecture and parameters."
   ]
  },
  {
   "cell_type": "code",
   "execution_count": 18,
   "metadata": {},
   "outputs": [
    {
     "name": "stdout",
     "output_type": "stream",
     "text": [
      "INFO:tensorflow:Restoring parameters from ./image_classification\n",
      "Testing Accuracy: 0.6284558355808259\n",
      "\n"
     ]
    },
    {
     "data": {
      "image/png": "[encoded data removed]",
      "text/plain": [
       "<matplotlib.figure.Figure at 0x7f668e4f3f28>"
      ]
     },
     "metadata": {
      "image/png": {
       "height": 319,
       "width": 355
      }
     },
     "output_type": "display_data"
    }
   ],
   "source": [
    "\"\"\"\n",
    "DON'T MODIFY ANYTHING IN THIS CELL\n",
    "\"\"\"\n",
    "%matplotlib inline\n",
    "%config InlineBackend.figure_format = 'retina'\n",
    "\n",
    "import tensorflow as tf\n",
    "import pickle\n",
    "import helper\n",
    "import random\n",
    "\n",
    "# Set batch size if not already set\n",
    "try:\n",
    "    if batch_size:\n",
    "        pass\n",
    "except NameError:\n",
    "    batch_size = 64\n",
    "\n",
    "save_model_path = './image_classification'\n",
    "n_samples = 4\n",
    "top_n_predictions = 3\n",
    "\n",
    "def test_model():\n",
    "    \"\"\"\n",
    "    Test the saved model against the test dataset\n",
    "    \"\"\"\n",
    "\n",
    "    test_features, test_labels = pickle.load(open('preprocess_test.p', mode='rb'))\n",
    "    loaded_graph = tf.Graph()\n",
    "\n",
    "    with tf.Session(graph=loaded_graph) as sess:\n",
    "        # Load model\n",
    "        loader = tf.train.import_meta_graph(save_model_path + '.meta')\n",
    "        loader.restore(sess, save_model_path)\n",
    "\n",
    "        # Get Tensors from loaded model\n",
    "        loaded_x = loaded_graph.get_tensor_by_name('x:0')\n",
    "        loaded_y = loaded_graph.get_tensor_by_name('y:0')\n",
    "        loaded_keep_prob = loaded_graph.get_tensor_by_name('keep_prob:0')\n",
    "        loaded_logits = loaded_graph.get_tensor_by_name('logits:0')\n",
    "        loaded_acc = loaded_graph.get_tensor_by_name('accuracy:0')\n",
    "        \n",
    "        # Get accuracy in batches for memory limitations\n",
    "        test_batch_acc_total = 0\n",
    "        test_batch_count = 0\n",
    "        \n",
    "        for train_feature_batch, train_label_batch in helper.batch_features_labels(test_features, test_labels, batch_size):\n",
    "            test_batch_acc_total += sess.run(\n",
    "                loaded_acc,\n",
    "                feed_dict={loaded_x: train_feature_batch, loaded_y: train_label_batch, loaded_keep_prob: 1.0})\n",
    "            test_batch_count += 1\n",
    "\n",
    "        print('Testing Accuracy: {}\\n'.format(test_batch_acc_total/test_batch_count))\n",
    "\n",
    "        # Print Random Samples\n",
    "        random_test_features, random_test_labels = tuple(zip(*random.sample(list(zip(test_features, test_labels)), n_samples)))\n",
    "        random_test_predictions = sess.run(\n",
    "            tf.nn.top_k(tf.nn.softmax(loaded_logits), top_n_predictions),\n",
    "            feed_dict={loaded_x: random_test_features, loaded_y: random_test_labels, loaded_keep_prob: 1.0})\n",
    "        helper.display_image_predictions(random_test_features, random_test_labels, random_test_predictions)\n",
    "\n",
    "\n",
    "test_model()"
   ]
  },
  {
   "cell_type": "markdown",
   "metadata": {},
   "source": [
    "## Why 50-70% Accuracy?\n",
    "You might be wondering why you can't get an accuracy any higher. First things first, 50% isn't bad for a simple CNN.  Pure guessing would get you 10% accuracy. However, you might notice people are getting scores [well above 70%](http://rodrigob.github.io/are_we_there_yet/build/classification_datasets_results.html#43494641522d3130).  That's because we haven't taught you all there is to know about neural networks. We still need to cover a few more techniques.\n",
    "## Submitting This Project\n",
    "When submitting this project, make sure to run all the cells before saving the notebook.  Save the notebook file as \"dlnd_image_classification.ipynb\" and save it as a HTML file under \"File\" -> \"Download as\".  Include the \"helper.py\" and \"problem_unittests.py\" files in your submission."
   ]
  }
 ],
 "metadata": {
  "kernelspec": {
   "display_name": "Python 3",
   "language": "python",
   "name": "python3"
  },
  "language_info": {
   "codemirror_mode": {
    "name": "ipython",
    "version": 3
   },
   "file_extension": ".py",
   "mimetype": "text/x-python",
   "name": "python",
   "nbconvert_exporter": "python",
   "pygments_lexer": "ipython3",
   "version": "3.5.3"
  }
 },
 "nbformat": 4,
 "nbformat_minor": 1
}
